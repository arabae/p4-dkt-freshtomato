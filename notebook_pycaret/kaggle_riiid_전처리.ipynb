{
 "cells": [
  {
   "cell_type": "code",
   "execution_count": 1,
   "metadata": {},
   "outputs": [],
   "source": [
    "import os\n",
    "import numpy as np\n",
    "import pickle\n",
    "from tqdm import tqdm_notebook              \n",
    "from functools import partial               # 함수 변수 고정\n",
    "import warnings\n",
    "import pandas as pd\n",
    "import matplotlib.pyplot as plt\n",
    "warnings.filterwarnings(\"ignore\")           # 경고 문구 미표시\n",
    "import random\n",
    "random.seed(42)\n",
    "# Subsample train set, Memory Error\n",
    "\n",
    "# 이 실습 파일이 위치하고 있는 경로!\n",
    "PROJECT_PATH = \"/opt/ml/notebooks/kaggle_riid\"\n",
    "\n",
    "# 데이터셋이 모아져있는 폴더\n",
    "# DATA_PATH = os.path.join(PROJECT_PATH, 'dataset')\n",
    "DATA_PATH = os.path.join(PROJECT_PATH, 'dataset')\n",
    "RIIID_PATH = DATA_PATH"
   ]
  },
  {
   "cell_type": "code",
   "execution_count": null,
   "metadata": {},
   "outputs": [],
   "source": [
    "\n",
    "# RiiiD 데이터셋 path 설정\n",
    "\n",
    "# 데이터셋 불러오기\n",
    "train_df = pd.read_csv(os.path.join(RIIID_PATH, 'train.csv'))\n",
    "lectures_df = pd.read_csv(os.path.join(RIIID_PATH, 'lectures.csv'))\n",
    "questions_df = pd.read_csv(os.path.join(RIIID_PATH, 'questions.csv'))"
   ]
  },
  {
   "cell_type": "code",
   "execution_count": 2,
   "metadata": {
    "tags": []
   },
   "outputs": [],
   "source": [
    "def reduce_mem_usage(props):\n",
    "    start_mem_usg = props.memory_usage().sum() / 1024**2 \n",
    "    print(\"Memory usage of properties dataframe is :\",start_mem_usg,\" MB\")\n",
    "    NAlist = [] # Keeps track of columns that have missing values filled in. \n",
    "    for col in props.columns:\n",
    "        if props[col].dtype != object:  # Exclude strings\n",
    "            \n",
    "            # Print current column type\n",
    "            #print(\"******************************\")\n",
    "            #print(\"Column: \",col)\n",
    "            #print(\"dtype before: \",props[col].dtype)\n",
    "            \n",
    "            # make variables for Int, max and min\n",
    "            IsInt = False\n",
    "            mx = props[col].max()\n",
    "            mn = props[col].min()\n",
    "            \n",
    "            # Integer does not support NA, therefore, NA needs to be filled\n",
    "            if not np.isfinite(props[col]).all(): \n",
    "                NAlist.append(col)\n",
    "                props[col].fillna(mn-1,inplace=True)  \n",
    "                   \n",
    "            # test if column can be converted to an integer\n",
    "            asint = props[col].fillna(0).astype(np.int64)\n",
    "            result = (props[col] - asint)\n",
    "            result = result.sum()\n",
    "            if result > 0.01:\n",
    "                IsInt = True\n",
    "\n",
    "            \n",
    "            # Make Integer/unsigned Integer datatypes\n",
    "            if IsInt:\n",
    "                if mn >= 0:\n",
    "                    if mx < 255:\n",
    "                        props[col] = props[col].astype(np.uint8)\n",
    "                    elif mx < 65535:\n",
    "                        props[col] = props[col].astype(np.uint16)\n",
    "                    elif mx < 4294967295:\n",
    "                        props[col] = props[col].astype(np.uint32)\n",
    "                    else:\n",
    "                        props[col] = props[col].astype(np.uint64)\n",
    "                else:\n",
    "                    if mn > np.iinfo(np.int8).max:\n",
    "                        props[col] = props[col].astype(np.int8)\n",
    "                    elif mn > np.iinfo(np.int16).max:\n",
    "                        props[col] = props[col].astype(np.int16)\n",
    "                    elif mn > np.iinfo(np.int32).max:\n",
    "                        props[col] = props[col].astype(np.int32)\n",
    "                    elif mn > np.iinfo(np.int64).max:\n",
    "                        props[col] = props[col].astype(np.int64)    \n",
    "            \n",
    "            # Make float datatypes 32 bit\n",
    "            else:\n",
    "                props[col] = props[col].astype(np.float32)\n",
    "            \n",
    "            # Print new column type\n",
    "            #print(\"dtype after: \",props[col].dtype)\n",
    "            #print(\"******************************\")\n",
    "    \n",
    "    # Print final result\n",
    "    print(\"___MEMORY USAGE AFTER COMPLETION:___\")\n",
    "    mem_usg = props.memory_usage().sum() / 1024**2 \n",
    "    print(\"Memory usage is: \",mem_usg,\" MB\")\n",
    "    print(\"This is \",100*mem_usg/start_mem_usg,\"% of the initial size\")\n",
    "    return props, NAlist\n",
    "    \n"
   ]
  },
  {
   "cell_type": "code",
   "execution_count": null,
   "metadata": {},
   "outputs": [],
   "source": [
    "train_df, NAlist = reduce_mem_usage(train_df)\n",
    "print(\"_________________\")\n",
    "print(\"Warning: the following columns have missing values filled with 'df['column_name'].min() -1': \")\n",
    "print(\"_________________\")\n",
    "print(\"\")\n",
    "print(NAlist)"
   ]
  },
  {
   "cell_type": "code",
   "execution_count": null,
   "metadata": {},
   "outputs": [],
   "source": [
    "lectures_df, NAlist = reduce_mem_usage(lectures_df)\n",
    "print(NAlist)\n",
    "questions_df, NAlist = reduce_mem_usage(questions_df)\n",
    "print(NAlist)"
   ]
  },
  {
   "cell_type": "code",
   "execution_count": null,
   "metadata": {},
   "outputs": [],
   "source": [
    "train_df.to_pickle(os.path.join(RIIID_PATH, 'train.pkl'))\n",
    "questions_df.to_pickle(os.path.join(RIIID_PATH, 'questions.pkl'))\n",
    "lectures_df.to_pickle(os.path.join(RIIID_PATH, 'lectures.pkl'))\n"
   ]
  },
  {
   "cell_type": "code",
   "execution_count": 3,
   "metadata": {},
   "outputs": [],
   "source": [
    "\n",
    "train_df = pd.read_pickle(os.path.join(RIIID_PATH,'train.pkl'))\n",
    "questions_df = pd.read_pickle(os.path.join(RIIID_PATH,'questions.pkl'))\n",
    "lectures_df = pd.read_pickle(os.path.join(RIIID_PATH,'lectures.pkl'))\n"
   ]
  },
  {
   "cell_type": "code",
   "execution_count": 4,
   "metadata": {},
   "outputs": [
    {
     "data": {
      "text/html": [
       "<div>\n",
       "<style scoped>\n",
       "    .dataframe tbody tr th:only-of-type {\n",
       "        vertical-align: middle;\n",
       "    }\n",
       "\n",
       "    .dataframe tbody tr th {\n",
       "        vertical-align: top;\n",
       "    }\n",
       "\n",
       "    .dataframe thead th {\n",
       "        text-align: right;\n",
       "    }\n",
       "</style>\n",
       "<table border=\"1\" class=\"dataframe\">\n",
       "  <thead>\n",
       "    <tr style=\"text-align: right;\">\n",
       "      <th></th>\n",
       "      <th>userID</th>\n",
       "      <th>assessmentItemID</th>\n",
       "      <th>testId</th>\n",
       "      <th>answerCode</th>\n",
       "      <th>Timestamp</th>\n",
       "      <th>KnowledgeTag</th>\n",
       "    </tr>\n",
       "  </thead>\n",
       "  <tbody>\n",
       "    <tr>\n",
       "      <th>0</th>\n",
       "      <td>0</td>\n",
       "      <td>A060001001</td>\n",
       "      <td>A060000001</td>\n",
       "      <td>1</td>\n",
       "      <td>2020-03-24 00:17:11</td>\n",
       "      <td>7224</td>\n",
       "    </tr>\n",
       "    <tr>\n",
       "      <th>1</th>\n",
       "      <td>0</td>\n",
       "      <td>A060001002</td>\n",
       "      <td>A060000001</td>\n",
       "      <td>1</td>\n",
       "      <td>2020-03-24 00:17:14</td>\n",
       "      <td>7225</td>\n",
       "    </tr>\n",
       "    <tr>\n",
       "      <th>2</th>\n",
       "      <td>0</td>\n",
       "      <td>A060001003</td>\n",
       "      <td>A060000001</td>\n",
       "      <td>1</td>\n",
       "      <td>2020-03-24 00:17:22</td>\n",
       "      <td>7225</td>\n",
       "    </tr>\n",
       "    <tr>\n",
       "      <th>3</th>\n",
       "      <td>0</td>\n",
       "      <td>A060001004</td>\n",
       "      <td>A060000001</td>\n",
       "      <td>1</td>\n",
       "      <td>2020-03-24 00:17:29</td>\n",
       "      <td>7225</td>\n",
       "    </tr>\n",
       "    <tr>\n",
       "      <th>4</th>\n",
       "      <td>0</td>\n",
       "      <td>A060001005</td>\n",
       "      <td>A060000001</td>\n",
       "      <td>1</td>\n",
       "      <td>2020-03-24 00:17:36</td>\n",
       "      <td>7225</td>\n",
       "    </tr>\n",
       "  </tbody>\n",
       "</table>\n",
       "</div>"
      ],
      "text/plain": [
       "   userID assessmentItemID      testId  answerCode            Timestamp  \\\n",
       "0       0       A060001001  A060000001           1  2020-03-24 00:17:11   \n",
       "1       0       A060001002  A060000001           1  2020-03-24 00:17:14   \n",
       "2       0       A060001003  A060000001           1  2020-03-24 00:17:22   \n",
       "3       0       A060001004  A060000001           1  2020-03-24 00:17:29   \n",
       "4       0       A060001005  A060000001           1  2020-03-24 00:17:36   \n",
       "\n",
       "   KnowledgeTag  \n",
       "0          7224  \n",
       "1          7225  \n",
       "2          7225  \n",
       "3          7225  \n",
       "4          7225  "
      ]
     },
     "execution_count": 4,
     "metadata": {},
     "output_type": "execute_result"
    }
   ],
   "source": [
    "original_train = pd.read_csv('/opt/ml/input/data/train_dataset/train_data.csv')\n",
    "original_train.head()"
   ]
  },
  {
   "cell_type": "code",
   "execution_count": 5,
   "metadata": {},
   "outputs": [
    {
     "data": {
      "text/html": [
       "<div>\n",
       "<style scoped>\n",
       "    .dataframe tbody tr th:only-of-type {\n",
       "        vertical-align: middle;\n",
       "    }\n",
       "\n",
       "    .dataframe tbody tr th {\n",
       "        vertical-align: top;\n",
       "    }\n",
       "\n",
       "    .dataframe thead th {\n",
       "        text-align: right;\n",
       "    }\n",
       "</style>\n",
       "<table border=\"1\" class=\"dataframe\">\n",
       "  <thead>\n",
       "    <tr style=\"text-align: right;\">\n",
       "      <th></th>\n",
       "      <th>userID</th>\n",
       "      <th>assessmentItemID</th>\n",
       "      <th>testId</th>\n",
       "      <th>answerCode</th>\n",
       "      <th>Timestamp</th>\n",
       "      <th>KnowledgeTag</th>\n",
       "    </tr>\n",
       "  </thead>\n",
       "  <tbody>\n",
       "    <tr>\n",
       "      <th>0</th>\n",
       "      <td>0</td>\n",
       "      <td>A060001001</td>\n",
       "      <td>A060000001</td>\n",
       "      <td>1</td>\n",
       "      <td>2020-03-24 00:17:11</td>\n",
       "      <td>7224</td>\n",
       "    </tr>\n",
       "    <tr>\n",
       "      <th>1</th>\n",
       "      <td>0</td>\n",
       "      <td>A060001002</td>\n",
       "      <td>A060000001</td>\n",
       "      <td>1</td>\n",
       "      <td>2020-03-24 00:17:14</td>\n",
       "      <td>7225</td>\n",
       "    </tr>\n",
       "    <tr>\n",
       "      <th>2</th>\n",
       "      <td>0</td>\n",
       "      <td>A060001003</td>\n",
       "      <td>A060000001</td>\n",
       "      <td>1</td>\n",
       "      <td>2020-03-24 00:17:22</td>\n",
       "      <td>7225</td>\n",
       "    </tr>\n",
       "    <tr>\n",
       "      <th>3</th>\n",
       "      <td>0</td>\n",
       "      <td>A060001004</td>\n",
       "      <td>A060000001</td>\n",
       "      <td>1</td>\n",
       "      <td>2020-03-24 00:17:29</td>\n",
       "      <td>7225</td>\n",
       "    </tr>\n",
       "    <tr>\n",
       "      <th>4</th>\n",
       "      <td>0</td>\n",
       "      <td>A060001005</td>\n",
       "      <td>A060000001</td>\n",
       "      <td>1</td>\n",
       "      <td>2020-03-24 00:17:36</td>\n",
       "      <td>7225</td>\n",
       "    </tr>\n",
       "    <tr>\n",
       "      <th>...</th>\n",
       "      <td>...</td>\n",
       "      <td>...</td>\n",
       "      <td>...</td>\n",
       "      <td>...</td>\n",
       "      <td>...</td>\n",
       "      <td>...</td>\n",
       "    </tr>\n",
       "    <tr>\n",
       "      <th>2266581</th>\n",
       "      <td>7441</td>\n",
       "      <td>A030071005</td>\n",
       "      <td>A030000071</td>\n",
       "      <td>0</td>\n",
       "      <td>2020-06-05 06:50:21</td>\n",
       "      <td>438</td>\n",
       "    </tr>\n",
       "    <tr>\n",
       "      <th>2266582</th>\n",
       "      <td>7441</td>\n",
       "      <td>A040165001</td>\n",
       "      <td>A040000165</td>\n",
       "      <td>1</td>\n",
       "      <td>2020-08-21 01:06:39</td>\n",
       "      <td>8836</td>\n",
       "    </tr>\n",
       "    <tr>\n",
       "      <th>2266583</th>\n",
       "      <td>7441</td>\n",
       "      <td>A040165002</td>\n",
       "      <td>A040000165</td>\n",
       "      <td>1</td>\n",
       "      <td>2020-08-21 01:06:50</td>\n",
       "      <td>8836</td>\n",
       "    </tr>\n",
       "    <tr>\n",
       "      <th>2266584</th>\n",
       "      <td>7441</td>\n",
       "      <td>A040165003</td>\n",
       "      <td>A040000165</td>\n",
       "      <td>1</td>\n",
       "      <td>2020-08-21 01:07:36</td>\n",
       "      <td>8836</td>\n",
       "    </tr>\n",
       "    <tr>\n",
       "      <th>2266585</th>\n",
       "      <td>7441</td>\n",
       "      <td>A040165004</td>\n",
       "      <td>A040000165</td>\n",
       "      <td>1</td>\n",
       "      <td>2020-08-21 01:08:49</td>\n",
       "      <td>8836</td>\n",
       "    </tr>\n",
       "  </tbody>\n",
       "</table>\n",
       "<p>2266586 rows × 6 columns</p>\n",
       "</div>"
      ],
      "text/plain": [
       "         userID assessmentItemID      testId  answerCode            Timestamp  \\\n",
       "0             0       A060001001  A060000001           1  2020-03-24 00:17:11   \n",
       "1             0       A060001002  A060000001           1  2020-03-24 00:17:14   \n",
       "2             0       A060001003  A060000001           1  2020-03-24 00:17:22   \n",
       "3             0       A060001004  A060000001           1  2020-03-24 00:17:29   \n",
       "4             0       A060001005  A060000001           1  2020-03-24 00:17:36   \n",
       "...         ...              ...         ...         ...                  ...   \n",
       "2266581    7441       A030071005  A030000071           0  2020-06-05 06:50:21   \n",
       "2266582    7441       A040165001  A040000165           1  2020-08-21 01:06:39   \n",
       "2266583    7441       A040165002  A040000165           1  2020-08-21 01:06:50   \n",
       "2266584    7441       A040165003  A040000165           1  2020-08-21 01:07:36   \n",
       "2266585    7441       A040165004  A040000165           1  2020-08-21 01:08:49   \n",
       "\n",
       "         KnowledgeTag  \n",
       "0                7224  \n",
       "1                7225  \n",
       "2                7225  \n",
       "3                7225  \n",
       "4                7225  \n",
       "...               ...  \n",
       "2266581           438  \n",
       "2266582          8836  \n",
       "2266583          8836  \n",
       "2266584          8836  \n",
       "2266585          8836  \n",
       "\n",
       "[2266586 rows x 6 columns]"
      ]
     },
     "execution_count": 5,
     "metadata": {},
     "output_type": "execute_result"
    }
   ],
   "source": [
    "original_train"
   ]
  },
  {
   "cell_type": "code",
   "execution_count": 33,
   "metadata": {},
   "outputs": [
    {
     "data": {
      "text/plain": [
       "7597    12892\n",
       "7600    10734\n",
       "2010    10176\n",
       "7621     9709\n",
       "8127     9006\n",
       "        ...  \n",
       "5142       47\n",
       "2871       46\n",
       "4978       46\n",
       "7125       45\n",
       "2613       44\n",
       "Name: KnowledgeTag, Length: 912, dtype: int64"
      ]
     },
     "execution_count": 33,
     "metadata": {},
     "output_type": "execute_result"
    }
   ],
   "source": [
    "original_train.KnowledgeTag.value_counts()"
   ]
  },
  {
   "cell_type": "code",
   "execution_count": null,
   "metadata": {},
   "outputs": [],
   "source": [
    "# from collections import Counter\n",
    "# questions_df.tags = questions_df.tags.astype(object)\n",
    "# all_tags = ' '.join([str(t) for t in questions_df.tags])\n",
    "# all_tags = all_tags.split()\n",
    "# print(len(Counter(all_tags)))\n",
    "# print(len(top_k))\n",
    "# import matplotlib.pyplot as plt\n",
    "# plt.hist(all_tags)\n",
    "# plt.title('After join, histogram')"
   ]
  },
  {
   "cell_type": "code",
   "execution_count": 4,
   "metadata": {},
   "outputs": [],
   "source": [
    "# train_df.sample(5)"
   ]
  },
  {
   "cell_type": "code",
   "execution_count": 5,
   "metadata": {},
   "outputs": [],
   "source": [
    "# lectures_df.sample(5)"
   ]
  },
  {
   "cell_type": "code",
   "execution_count": 6,
   "metadata": {},
   "outputs": [],
   "source": [
    "# questions_df.sample(5)"
   ]
  },
  {
   "cell_type": "code",
   "execution_count": null,
   "metadata": {},
   "outputs": [],
   "source": [
    "# print(len(set(lectures_df.tag)))\n",
    "# print(len(set(questions_df.tags)))\n",
    "# print(len(set(questions_df.tags)|set(lectures_df.tag)))"
   ]
  },
  {
   "cell_type": "markdown",
   "metadata": {},
   "source": [
    "## questions_df랑 lectures_df 합치기"
   ]
  },
  {
   "cell_type": "code",
   "execution_count": 8,
   "metadata": {},
   "outputs": [],
   "source": [
    "# column 이름 변경\n",
    "questions_df = questions_df.rename({'question_id':'content_id'}, axis=1)\n",
    "lectures_df = lectures_df.rename({'lecture_id':'content_id', 'tag':'tags'}, axis=1)\n",
    "lectures_df.tags = lectures_df.tags.apply(lambda x: str(int(float(x))))\n",
    "\n",
    "# NaN값 채우기\n",
    "questions_df['tags'] = questions_df['tags'].fillna('')        \n",
    "\n",
    "# 데이터 타입 변경\n",
    "lectures_df['tags'] = lectures_df['tags'].astype(str)\n",
    "\n",
    "# 필요없는 column 삭제\n",
    "# questions_df = questions_df.drop('bundle_id', axis=1)\n",
    "\n",
    "# 새로운 feature 생성\n",
    "questions_df['content_type_id'] = 0\n",
    "lectures_df['content_type_id'] = 1"
   ]
  },
  {
   "cell_type": "code",
   "execution_count": 9,
   "metadata": {},
   "outputs": [],
   "source": [
    "# 데이터셋 합치기\n",
    "question_lectures_df = pd.concat([questions_df, lectures_df])"
   ]
  },
  {
   "cell_type": "code",
   "execution_count": 10,
   "metadata": {},
   "outputs": [
    {
     "data": {
      "text/plain": [
       "8                      738\n",
       "73                     617\n",
       "53                     523\n",
       "1                      413\n",
       "96                     373\n",
       "                      ... \n",
       "62 90 100 162 81 29      1\n",
       "39 0 146 11 122          1\n",
       "106 169 102              1\n",
       "157 67 162 38            1\n",
       "131 13 102               1\n",
       "Name: tags, Length: 1520, dtype: int64"
      ]
     },
     "execution_count": 10,
     "metadata": {},
     "output_type": "execute_result"
    }
   ],
   "source": [
    "questions_df.tags.value_counts()"
   ]
  },
  {
   "cell_type": "code",
   "execution_count": 11,
   "metadata": {},
   "outputs": [
    {
     "data": {
      "text/plain": [
       "136    7\n",
       "134    6\n",
       "74     6\n",
       "113    6\n",
       "27     6\n",
       "      ..\n",
       "139    1\n",
       "12     1\n",
       "150    1\n",
       "126    1\n",
       "155    1\n",
       "Name: tags, Length: 151, dtype: int64"
      ]
     },
     "execution_count": 11,
     "metadata": {},
     "output_type": "execute_result"
    }
   ],
   "source": [
    "lectures_df.tags.value_counts()"
   ]
  },
  {
   "cell_type": "code",
   "execution_count": 12,
   "metadata": {},
   "outputs": [
    {
     "data": {
      "text/plain": [
       "8                   742\n",
       "73                  621\n",
       "53                  527\n",
       "1                   417\n",
       "96                  377\n",
       "                   ... \n",
       "136 183 162 92        1\n",
       "62 137 88 92 29       1\n",
       "82 126 162 92         1\n",
       "39 160 16 22 122      1\n",
       "82 120 162 92         1\n",
       "Name: tags, Length: 1596, dtype: int64"
      ]
     },
     "execution_count": 12,
     "metadata": {},
     "output_type": "execute_result"
    }
   ],
   "source": [
    "question_lectures_df.tags.value_counts()"
   ]
  },
  {
   "cell_type": "code",
   "execution_count": 13,
   "metadata": {},
   "outputs": [],
   "source": [
    "# question_lectures_df 추출 : tag기준 빈도수 top 913까지만 row 추출\n",
    "# question_lectures_df = question_lectures_df.loc[question_lectures_df.tags.isin(question_lectures_df.tags.value_counts()[:913].index)]"
   ]
  },
  {
   "cell_type": "code",
   "execution_count": 14,
   "metadata": {},
   "outputs": [
    {
     "data": {
      "text/html": [
       "<div>\n",
       "<style scoped>\n",
       "    .dataframe tbody tr th:only-of-type {\n",
       "        vertical-align: middle;\n",
       "    }\n",
       "\n",
       "    .dataframe tbody tr th {\n",
       "        vertical-align: top;\n",
       "    }\n",
       "\n",
       "    .dataframe thead th {\n",
       "        text-align: right;\n",
       "    }\n",
       "</style>\n",
       "<table border=\"1\" class=\"dataframe\">\n",
       "  <thead>\n",
       "    <tr style=\"text-align: right;\">\n",
       "      <th></th>\n",
       "      <th>content_id</th>\n",
       "      <th>bundle_id</th>\n",
       "      <th>correct_answer</th>\n",
       "      <th>part</th>\n",
       "      <th>tags</th>\n",
       "      <th>content_type_id</th>\n",
       "    </tr>\n",
       "  </thead>\n",
       "  <tbody>\n",
       "    <tr>\n",
       "      <th>0</th>\n",
       "      <td>0.0</td>\n",
       "      <td>0.0</td>\n",
       "      <td>0.0</td>\n",
       "      <td>1.0</td>\n",
       "      <td>51 131 162 38</td>\n",
       "      <td>0</td>\n",
       "    </tr>\n",
       "    <tr>\n",
       "      <th>1</th>\n",
       "      <td>1.0</td>\n",
       "      <td>1.0</td>\n",
       "      <td>1.0</td>\n",
       "      <td>1.0</td>\n",
       "      <td>131 36 81</td>\n",
       "      <td>0</td>\n",
       "    </tr>\n",
       "    <tr>\n",
       "      <th>2</th>\n",
       "      <td>2.0</td>\n",
       "      <td>2.0</td>\n",
       "      <td>0.0</td>\n",
       "      <td>1.0</td>\n",
       "      <td>131 101 162 92</td>\n",
       "      <td>0</td>\n",
       "    </tr>\n",
       "  </tbody>\n",
       "</table>\n",
       "</div>"
      ],
      "text/plain": [
       "   content_id  bundle_id  correct_answer  part            tags  \\\n",
       "0         0.0        0.0             0.0   1.0   51 131 162 38   \n",
       "1         1.0        1.0             1.0   1.0       131 36 81   \n",
       "2         2.0        2.0             0.0   1.0  131 101 162 92   \n",
       "\n",
       "   content_type_id  \n",
       "0                0  \n",
       "1                0  \n",
       "2                0  "
      ]
     },
     "execution_count": 14,
     "metadata": {},
     "output_type": "execute_result"
    }
   ],
   "source": [
    "questions_df.head(3)"
   ]
  },
  {
   "cell_type": "code",
   "execution_count": 15,
   "metadata": {},
   "outputs": [
    {
     "data": {
      "text/html": [
       "<div>\n",
       "<style scoped>\n",
       "    .dataframe tbody tr th:only-of-type {\n",
       "        vertical-align: middle;\n",
       "    }\n",
       "\n",
       "    .dataframe tbody tr th {\n",
       "        vertical-align: top;\n",
       "    }\n",
       "\n",
       "    .dataframe thead th {\n",
       "        text-align: right;\n",
       "    }\n",
       "</style>\n",
       "<table border=\"1\" class=\"dataframe\">\n",
       "  <thead>\n",
       "    <tr style=\"text-align: right;\">\n",
       "      <th></th>\n",
       "      <th>content_id</th>\n",
       "      <th>tags</th>\n",
       "      <th>part</th>\n",
       "      <th>type_of</th>\n",
       "      <th>content_type_id</th>\n",
       "    </tr>\n",
       "  </thead>\n",
       "  <tbody>\n",
       "    <tr>\n",
       "      <th>0</th>\n",
       "      <td>89.0</td>\n",
       "      <td>159</td>\n",
       "      <td>5.0</td>\n",
       "      <td>concept</td>\n",
       "      <td>1</td>\n",
       "    </tr>\n",
       "    <tr>\n",
       "      <th>1</th>\n",
       "      <td>100.0</td>\n",
       "      <td>70</td>\n",
       "      <td>1.0</td>\n",
       "      <td>concept</td>\n",
       "      <td>1</td>\n",
       "    </tr>\n",
       "    <tr>\n",
       "      <th>2</th>\n",
       "      <td>185.0</td>\n",
       "      <td>45</td>\n",
       "      <td>6.0</td>\n",
       "      <td>concept</td>\n",
       "      <td>1</td>\n",
       "    </tr>\n",
       "  </tbody>\n",
       "</table>\n",
       "</div>"
      ],
      "text/plain": [
       "   content_id tags  part  type_of  content_type_id\n",
       "0        89.0  159   5.0  concept                1\n",
       "1       100.0   70   1.0  concept                1\n",
       "2       185.0   45   6.0  concept                1"
      ]
     },
     "execution_count": 15,
     "metadata": {},
     "output_type": "execute_result"
    }
   ],
   "source": [
    "lectures_df.head(3)"
   ]
  },
  {
   "cell_type": "code",
   "execution_count": 16,
   "metadata": {},
   "outputs": [
    {
     "data": {
      "text/html": [
       "<div>\n",
       "<style scoped>\n",
       "    .dataframe tbody tr th:only-of-type {\n",
       "        vertical-align: middle;\n",
       "    }\n",
       "\n",
       "    .dataframe tbody tr th {\n",
       "        vertical-align: top;\n",
       "    }\n",
       "\n",
       "    .dataframe thead th {\n",
       "        text-align: right;\n",
       "    }\n",
       "</style>\n",
       "<table border=\"1\" class=\"dataframe\">\n",
       "  <thead>\n",
       "    <tr style=\"text-align: right;\">\n",
       "      <th></th>\n",
       "      <th>content_id</th>\n",
       "      <th>bundle_id</th>\n",
       "      <th>correct_answer</th>\n",
       "      <th>part</th>\n",
       "      <th>tags</th>\n",
       "      <th>content_type_id</th>\n",
       "      <th>type_of</th>\n",
       "    </tr>\n",
       "  </thead>\n",
       "  <tbody>\n",
       "    <tr>\n",
       "      <th>0</th>\n",
       "      <td>0.0</td>\n",
       "      <td>0.0</td>\n",
       "      <td>0.0</td>\n",
       "      <td>1.0</td>\n",
       "      <td>51 131 162 38</td>\n",
       "      <td>0</td>\n",
       "      <td>NaN</td>\n",
       "    </tr>\n",
       "    <tr>\n",
       "      <th>1</th>\n",
       "      <td>1.0</td>\n",
       "      <td>1.0</td>\n",
       "      <td>1.0</td>\n",
       "      <td>1.0</td>\n",
       "      <td>131 36 81</td>\n",
       "      <td>0</td>\n",
       "      <td>NaN</td>\n",
       "    </tr>\n",
       "    <tr>\n",
       "      <th>2</th>\n",
       "      <td>2.0</td>\n",
       "      <td>2.0</td>\n",
       "      <td>0.0</td>\n",
       "      <td>1.0</td>\n",
       "      <td>131 101 162 92</td>\n",
       "      <td>0</td>\n",
       "      <td>NaN</td>\n",
       "    </tr>\n",
       "  </tbody>\n",
       "</table>\n",
       "</div>"
      ],
      "text/plain": [
       "   content_id  bundle_id  correct_answer  part            tags  \\\n",
       "0         0.0        0.0             0.0   1.0   51 131 162 38   \n",
       "1         1.0        1.0             1.0   1.0       131 36 81   \n",
       "2         2.0        2.0             0.0   1.0  131 101 162 92   \n",
       "\n",
       "   content_type_id type_of  \n",
       "0                0     NaN  \n",
       "1                0     NaN  \n",
       "2                0     NaN  "
      ]
     },
     "execution_count": 16,
     "metadata": {},
     "output_type": "execute_result"
    }
   ],
   "source": [
    "# 합쳐진 데이터셋 확인\n",
    "question_lectures_df.head(3)"
   ]
  },
  {
   "cell_type": "code",
   "execution_count": 17,
   "metadata": {},
   "outputs": [
    {
     "data": {
      "text/plain": [
       "0    13523\n",
       "1      418\n",
       "Name: content_type_id, dtype: int64"
      ]
     },
     "execution_count": 17,
     "metadata": {},
     "output_type": "execute_result"
    }
   ],
   "source": [
    "question_lectures_df.content_type_id.value_counts()"
   ]
  },
  {
   "cell_type": "code",
   "execution_count": 18,
   "metadata": {},
   "outputs": [
    {
     "data": {
      "text/html": [
       "<div>\n",
       "<style scoped>\n",
       "    .dataframe tbody tr th:only-of-type {\n",
       "        vertical-align: middle;\n",
       "    }\n",
       "\n",
       "    .dataframe tbody tr th {\n",
       "        vertical-align: top;\n",
       "    }\n",
       "\n",
       "    .dataframe thead th {\n",
       "        text-align: right;\n",
       "    }\n",
       "</style>\n",
       "<table border=\"1\" class=\"dataframe\">\n",
       "  <thead>\n",
       "    <tr style=\"text-align: right;\">\n",
       "      <th></th>\n",
       "      <th>content_id</th>\n",
       "      <th>bundle_id</th>\n",
       "      <th>correct_answer</th>\n",
       "      <th>part</th>\n",
       "      <th>tags</th>\n",
       "      <th>content_type_id</th>\n",
       "      <th>type_of</th>\n",
       "    </tr>\n",
       "  </thead>\n",
       "  <tbody>\n",
       "    <tr>\n",
       "      <th>89</th>\n",
       "      <td>89.0</td>\n",
       "      <td>89.0</td>\n",
       "      <td>1.0</td>\n",
       "      <td>1.0</td>\n",
       "      <td>131 36 38</td>\n",
       "      <td>0</td>\n",
       "      <td>NaN</td>\n",
       "    </tr>\n",
       "    <tr>\n",
       "      <th>0</th>\n",
       "      <td>89.0</td>\n",
       "      <td>NaN</td>\n",
       "      <td>NaN</td>\n",
       "      <td>5.0</td>\n",
       "      <td>159</td>\n",
       "      <td>1</td>\n",
       "      <td>concept</td>\n",
       "    </tr>\n",
       "  </tbody>\n",
       "</table>\n",
       "</div>"
      ],
      "text/plain": [
       "    content_id  bundle_id  correct_answer  part       tags  content_type_id  \\\n",
       "89        89.0       89.0             1.0   1.0  131 36 38                0   \n",
       "0         89.0        NaN             NaN   5.0        159                1   \n",
       "\n",
       "    type_of  \n",
       "89      NaN  \n",
       "0   concept  "
      ]
     },
     "execution_count": 18,
     "metadata": {},
     "output_type": "execute_result"
    }
   ],
   "source": [
    "## lecture_df에는 정답여부가 없는데?\n",
    "question_lectures_df.loc[question_lectures_df.content_id==89,:]"
   ]
  },
  {
   "cell_type": "code",
   "execution_count": 19,
   "metadata": {},
   "outputs": [
    {
     "name": "stdout",
     "output_type": "stream",
     "text": [
      "(13523, 6)\n",
      "(418, 5)\n"
     ]
    }
   ],
   "source": [
    "print(questions_df.shape)\n",
    "print(lectures_df.shape)\n",
    "# print(question_lectures_df.shape)"
   ]
  },
  {
   "cell_type": "code",
   "execution_count": null,
   "metadata": {},
   "outputs": [],
   "source": []
  },
  {
   "cell_type": "markdown",
   "metadata": {},
   "source": [
    "## train_df에 questions_df만 합치기\n",
    "question_df의 content_id (question_id)가 key가 됨"
   ]
  },
  {
   "cell_type": "code",
   "execution_count": 20,
   "metadata": {},
   "outputs": [
    {
     "name": "stdout",
     "output_type": "stream",
     "text": [
      "(101230332, 10)\n",
      "Index(['row_id', 'timestamp', 'user_id', 'content_id', 'content_type_id',\n",
      "       'task_container_id', 'user_answer', 'answered_correctly',\n",
      "       'prior_question_elapsed_time', 'prior_question_had_explanation'],\n",
      "      dtype='object')\n"
     ]
    }
   ],
   "source": [
    "print(train_df.shape)\n",
    "print(train_df.columns)"
   ]
  },
  {
   "cell_type": "code",
   "execution_count": 21,
   "metadata": {},
   "outputs": [],
   "source": [
    "train_df = train_df.merge(questions_df, how='left', on=['content_id', 'content_type_id'])\n",
    "del questions_df\n",
    "del lectures_df"
   ]
  },
  {
   "cell_type": "code",
   "execution_count": 35,
   "metadata": {},
   "outputs": [
    {
     "data": {
      "text/plain": [
       "0    34.56\n",
       "1    65.44\n",
       "Name: answerCode, dtype: float64"
      ]
     },
     "execution_count": 35,
     "metadata": {},
     "output_type": "execute_result"
    }
   ],
   "source": [
    "correct = original_train[original_train.answerCode != -1].answerCode.value_counts(ascending=True)\n",
    "correct = round(correct/sum(correct.values)*100,2)\n",
    "correct"
   ]
  },
  {
   "cell_type": "markdown",
   "metadata": {},
   "source": [
    "## Riid Data & Our Data\n",
    "정답률 분포 확인"
   ]
  },
  {
   "cell_type": "code",
   "execution_count": 60,
   "metadata": {},
   "outputs": [
    {
     "data": {
      "image/png": "[encoded data removed]",
      "text/plain": [
       "<Figure size 864x288 with 1 Axes>"
      ]
     },
     "metadata": {
      "needs_background": "light"
     },
     "output_type": "display_data"
    }
   ],
   "source": [
    "correct = original_train[original_train.answerCode != -1].answerCode.value_counts(ascending=True)\n",
    "\n",
    "fig = plt.figure(figsize=(12,4))\n",
    "correct.plot.barh()\n",
    "correct = round(correct/sum(correct.values)*100,2)\n",
    "for i, v in zip(correct.index, correct.values):\n",
    "    # plt.text(v, i, '{:,}'.format(v), color='white', fontweight='bold', fontsize=14, ha='right', va='center')\n",
    "    plt.text(v*10000, i, f'{v}%', color='white', fontweight='bold', fontsize=14, ha='left', va='center')\n",
    "plt.title(\"Our Questions answerCode Distribution\")\n",
    "plt.xticks(rotation=0)\n",
    "plt.show()"
   ]
  },
  {
   "cell_type": "code",
   "execution_count": 66,
   "metadata": {},
   "outputs": [
    {
     "data": {
      "image/png": "[encoded data removed]",
      "text/plain": [
       "<Figure size 864x288 with 1 Axes>"
      ]
     },
     "metadata": {
      "needs_background": "light"
     },
     "output_type": "display_data"
    }
   ],
   "source": [
    "correct = train_df[train_df.answered_correctly != -1].answered_correctly.value_counts(ascending=True)\n",
    "\n",
    "fig = plt.figure(figsize=(12,4))\n",
    "correct.plot.barh()\n",
    "correct = round(correct/sum(correct.values)*100,2)\n",
    "for i, v in zip(correct.index, correct.values):\n",
    "    # plt.text(v, i, '{:,}'.format(v), color='white', fontweight='bold', fontsize=14, ha='right', va='center')\n",
    "    plt.text(v*500000, i, f'{v}%', color='white', fontweight='bold', fontsize=14, ha='left', va='center')\n",
    "plt.title(\"Riid's Questions answerCode Distribution\")\n",
    "plt.xticks(rotation=0)\n",
    "plt.show()"
   ]
  },
  {
   "cell_type": "code",
   "execution_count": 22,
   "metadata": {},
   "outputs": [
    {
     "data": {
      "image/png": "[encoded data removed]",
      "text/plain": [
       "<Figure size 864x288 with 1 Axes>"
      ]
     },
     "metadata": {
      "needs_background": "light"
     },
     "output_type": "display_data"
    }
   ],
   "source": [
    "correct = train_df[train_df.answered_correctly != -1].answered_correctly.value_counts(ascending=True)\n",
    "\n",
    "fig = plt.figure(figsize=(12,4))\n",
    "correct.plot.barh()\n",
    "for i, v in zip(correct.index, correct.values):\n",
    "    plt.text(v, i, '{:,}'.format(v), color='white', fontweight='bold', fontsize=14, ha='right', va='center')\n",
    "plt.title(\"Riid's Questions answerCode Distribution\")\n",
    "plt.xticks(rotation=0)\n",
    "plt.show()"
   ]
  },
  {
   "cell_type": "code",
   "execution_count": 7,
   "metadata": {},
   "outputs": [
    {
     "name": "stdout",
     "output_type": "stream",
     "text": [
      "(101230332, 14)\n"
     ]
    },
    {
     "data": {
      "text/html": [
       "<div>\n",
       "<style scoped>\n",
       "    .dataframe tbody tr th:only-of-type {\n",
       "        vertical-align: middle;\n",
       "    }\n",
       "\n",
       "    .dataframe tbody tr th {\n",
       "        vertical-align: top;\n",
       "    }\n",
       "\n",
       "    .dataframe thead th {\n",
       "        text-align: right;\n",
       "    }\n",
       "</style>\n",
       "<table border=\"1\" class=\"dataframe\">\n",
       "  <thead>\n",
       "    <tr style=\"text-align: right;\">\n",
       "      <th></th>\n",
       "      <th>row_id</th>\n",
       "      <th>timestamp</th>\n",
       "      <th>user_id</th>\n",
       "      <th>content_id</th>\n",
       "      <th>content_type_id</th>\n",
       "      <th>task_container_id</th>\n",
       "      <th>user_answer</th>\n",
       "      <th>answered_correctly</th>\n",
       "      <th>prior_question_elapsed_time</th>\n",
       "      <th>prior_question_had_explanation</th>\n",
       "      <th>bundle_id</th>\n",
       "      <th>correct_answer</th>\n",
       "      <th>part</th>\n",
       "      <th>tags</th>\n",
       "    </tr>\n",
       "  </thead>\n",
       "  <tbody>\n",
       "    <tr>\n",
       "      <th>0</th>\n",
       "      <td>0.0</td>\n",
       "      <td>0.0</td>\n",
       "      <td>115.0</td>\n",
       "      <td>5692.0</td>\n",
       "      <td>0.0</td>\n",
       "      <td>1.0</td>\n",
       "      <td>3.0</td>\n",
       "      <td>1.0</td>\n",
       "      <td>-1.0</td>\n",
       "      <td>NaN</td>\n",
       "      <td>5692.0</td>\n",
       "      <td>3.0</td>\n",
       "      <td>5.0</td>\n",
       "      <td>151</td>\n",
       "    </tr>\n",
       "    <tr>\n",
       "      <th>1</th>\n",
       "      <td>1.0</td>\n",
       "      <td>56943.0</td>\n",
       "      <td>115.0</td>\n",
       "      <td>5716.0</td>\n",
       "      <td>0.0</td>\n",
       "      <td>2.0</td>\n",
       "      <td>2.0</td>\n",
       "      <td>1.0</td>\n",
       "      <td>37000.0</td>\n",
       "      <td>False</td>\n",
       "      <td>5716.0</td>\n",
       "      <td>2.0</td>\n",
       "      <td>5.0</td>\n",
       "      <td>168</td>\n",
       "    </tr>\n",
       "    <tr>\n",
       "      <th>2</th>\n",
       "      <td>2.0</td>\n",
       "      <td>118363.0</td>\n",
       "      <td>115.0</td>\n",
       "      <td>128.0</td>\n",
       "      <td>0.0</td>\n",
       "      <td>0.0</td>\n",
       "      <td>0.0</td>\n",
       "      <td>1.0</td>\n",
       "      <td>55000.0</td>\n",
       "      <td>False</td>\n",
       "      <td>128.0</td>\n",
       "      <td>0.0</td>\n",
       "      <td>1.0</td>\n",
       "      <td>131 149 92</td>\n",
       "    </tr>\n",
       "  </tbody>\n",
       "</table>\n",
       "</div>"
      ],
      "text/plain": [
       "   row_id  timestamp  user_id  content_id  content_type_id  task_container_id  \\\n",
       "0     0.0        0.0    115.0      5692.0              0.0                1.0   \n",
       "1     1.0    56943.0    115.0      5716.0              0.0                2.0   \n",
       "2     2.0   118363.0    115.0       128.0              0.0                0.0   \n",
       "\n",
       "   user_answer  answered_correctly  prior_question_elapsed_time  \\\n",
       "0          3.0                 1.0                         -1.0   \n",
       "1          2.0                 1.0                      37000.0   \n",
       "2          0.0                 1.0                      55000.0   \n",
       "\n",
       "  prior_question_had_explanation  bundle_id  correct_answer  part        tags  \n",
       "0                            NaN     5692.0             3.0   5.0         151  \n",
       "1                          False     5716.0             2.0   5.0         168  \n",
       "2                          False      128.0             0.0   1.0  131 149 92  "
      ]
     },
     "execution_count": 7,
     "metadata": {},
     "output_type": "execute_result"
    }
   ],
   "source": [
    "print(train_df.shape)\n",
    "train_df.head(3)"
   ]
  },
  {
   "cell_type": "code",
   "execution_count": 2,
   "metadata": {},
   "outputs": [],
   "source": [
    "train_df.drop(\n",
    "    ['row_id','content_type_id','prior_question_elapsed_time','user_answer','prior_question_had_explanation','correct_answer'], #'type_of',\n",
    "    axis=1,\n",
    "    inplace=True)"
   ]
  },
  {
   "cell_type": "code",
   "execution_count": 1,
   "metadata": {},
   "outputs": [],
   "source": [
    "# import pandas as pd\n",
    "# train_df.to_pickle('/opt/ml/notebooks/kaggle_riid/dataset/checkpoint_train.pkl')\n",
    "# train_df = pd.read_pickle('/opt/ml/notebooks/kaggle_riid/dataset/checkpoint_train.pkl')\n",
    "# original_train = pd.read_csv('/opt/ml/input/data/train_dataset/train_data.csv')"
   ]
  },
  {
   "cell_type": "markdown",
   "metadata": {},
   "source": [
    "## testID를 대체가능한 변수는\n",
    "7가지 유형을 나타내는 part? 보다는 task_container_id or bundle_id, 인듯 한데..\n",
    "\n",
    "task_container_id를 testID로 해본 결과 => train과 test가 서로 같은 범주 내에 없음, train에서 등장하지 않았던 id가 test에 등장함.\n",
    "\n",
    "변수를 수정해야하는 부분이 있을듯 => 하는김에 part라는 난이도 (혹은 시험유형) 정보가 (문제id나 시험id에) 반영되도록 바꾸자\n",
    "\n",
    "아래그림처럼 원래는 part별로 id가 전부 다르지가 않음\n",
    "\n",
    "> 이로부터 문제ID도 마찬가지 방법으로 적용해야 할듯"
   ]
  },
  {
   "cell_type": "markdown",
   "metadata": {},
   "source": [
    "### Part 카테고리별 변수들의 분포\n",
    "Riid Data 내에서 Part라는 변수가 우리 데이터 testId의 `대분류`와 의미가 비슷해보인다.\n",
    "\n",
    "Part별로 시험지 혹은 문제가 겹치는지 안 겹치는지를 시각화로 확인해보았다.\n"
   ]
  },
  {
   "cell_type": "code",
   "execution_count": 69,
   "metadata": {},
   "outputs": [
    {
     "data": {
      "image/png": "[encoded data removed]",
      "text/plain": [
       "<Figure size 864x576 with 1 Axes>"
      ]
     },
     "metadata": {
      "needs_background": "light"
     },
     "output_type": "display_data"
    }
   ],
   "source": [
    "# Memory Error 조심\n",
    "import seaborn as sns\n",
    "content_id_per_part = {}\n",
    "for key in range(1,8):\n",
    "    content_id_per_part[f'part{key}'] = train_df.loc[train_df.part==key]['content_id']\n",
    "\n",
    "# 1-1. Multiple histograms on the same axis\n",
    "colors = ['b','g','r','c','m','y','k']\n",
    "plt.figure(figsize=(12,8))\n",
    "for key in range(1,8):\n",
    "    sns.distplot(content_id_per_part[f'part{key}'],color=colors[key-1],hist=True,kde=False,label=f\"part{key}\")\n",
    "plt.legend(title=\"Part\")\n",
    "plt.xlabel('testId')\n",
    "plt.title('testId per Part in Riid')\n",
    "plt.show()\n"
   ]
  },
  {
   "cell_type": "code",
   "execution_count": 70,
   "metadata": {},
   "outputs": [
    {
     "data": {
      "image/png": "[encoded data removed]",
      "text/plain": [
       "<Figure size 864x576 with 1 Axes>"
      ]
     },
     "metadata": {
      "needs_background": "light"
     },
     "output_type": "display_data"
    }
   ],
   "source": [
    "# Memory Error 조심\n",
    "import seaborn as sns\n",
    "import matplotlib.pyplot as plt\n",
    "task_container_id_per_part = {}\n",
    "for key in range(1,8):\n",
    "    task_container_id_per_part[f'part{key}'] = train_df.loc[train_df.part==key]['task_container_id']\n",
    "\n",
    "# 1-1. Multiple histograms on the same axis\n",
    "colors = ['b','g','r','c','m','y','k']\n",
    "plt.figure(figsize=(12,8))\n",
    "for key in range(1,8):\n",
    "    sns.distplot(task_container_id_per_part[f'part{key}'],color=colors[key-1],hist=True,kde=False,label=f\"part{key}\")\n",
    "plt.legend(title=\"Part\")\n",
    "plt.title('assessmentID per Part')\n",
    "plt.xlabel('assessmentID')\n",
    "plt.show()\n"
   ]
  },
  {
   "cell_type": "code",
   "execution_count": 71,
   "metadata": {},
   "outputs": [
    {
     "data": {
      "image/png": "[encoded data removed]",
      "text/plain": [
       "<Figure size 864x576 with 1 Axes>"
      ]
     },
     "metadata": {
      "needs_background": "light"
     },
     "output_type": "display_data"
    }
   ],
   "source": [
    "plt.figure(figsize=(12,8))\n",
    "for key in range(1,8):\n",
    "    sns.distplot(task_container_id_per_part[f'part{key}'],color=colors[key-1],hist=False,kde=True,label=f\"part{key}\")\n",
    "plt.legend(title=\"Part\")\n",
    "plt.title('assessmentID per Part')\n",
    "plt.xlabel('assessmentID')\n",
    "plt.show()\n"
   ]
  },
  {
   "cell_type": "code",
   "execution_count": 6,
   "metadata": {},
   "outputs": [],
   "source": [
    "del task_container_id_per_part"
   ]
  },
  {
   "cell_type": "markdown",
   "metadata": {},
   "source": [
    "### content_id\n",
    "Riid DataSet의 testId"
   ]
  },
  {
   "cell_type": "code",
   "execution_count": 48,
   "metadata": {},
   "outputs": [
    {
     "data": {
      "text/plain": [
       "6116.0     213605\n",
       "6173.0     202106\n",
       "4120.0     199372\n",
       "175.0      195861\n",
       "7876.0     190170\n",
       "            ...  \n",
       "1485.0          1\n",
       "10033.0         1\n",
       "21169.0         1\n",
       "1484.0          1\n",
       "5823.0          1\n",
       "Name: content_id, Length: 13782, dtype: int64"
      ]
     },
     "execution_count": 48,
     "metadata": {},
     "output_type": "execute_result"
    }
   ],
   "source": [
    "train_df.content_id.value_counts()"
   ]
  },
  {
   "cell_type": "code",
   "execution_count": 47,
   "metadata": {},
   "outputs": [
    {
     "data": {
      "text/plain": [
       "5.0    40908153\n",
       "2.0    18743404\n",
       "6.0    10501472\n",
       "3.0     8639907\n",
       "4.0     8067676\n",
       "1.0     7454570\n",
       "7.0     4956118\n",
       "Name: part, dtype: int64"
      ]
     },
     "execution_count": 47,
     "metadata": {},
     "output_type": "execute_result"
    }
   ],
   "source": [
    "# Riid Data는 Toeic 시험데이터, Part는 1~7\n",
    "train_df.part.value_counts()"
   ]
  },
  {
   "cell_type": "markdown",
   "metadata": {},
   "source": [
    "### assessmentItemId\n",
    "두 데이터의 assessmentItemId 분포비교"
   ]
  },
  {
   "cell_type": "code",
   "execution_count": 46,
   "metadata": {},
   "outputs": [
    {
     "data": {
      "text/plain": [
       "14.0      804285\n",
       "15.0      798539\n",
       "4.0       692079\n",
       "5.0       690051\n",
       "6.0       688813\n",
       "           ...  \n",
       "9927.0       174\n",
       "9932.0       174\n",
       "9925.0       172\n",
       "9937.0       172\n",
       "9926.0       170\n",
       "Name: task_container_id, Length: 10000, dtype: int64"
      ]
     },
     "execution_count": 46,
     "metadata": {},
     "output_type": "execute_result"
    }
   ],
   "source": [
    "train_df.task_container_id.value_counts()"
   ]
  },
  {
   "cell_type": "code",
   "execution_count": 11,
   "metadata": {},
   "outputs": [
    {
     "data": {
      "text/plain": [
       "count    1.012303e+08\n",
       "mean     3.939948e+00\n",
       "std      5.513408e-01\n",
       "min      1.000000e+00\n",
       "25%      4.000000e+00\n",
       "50%      4.000000e+00\n",
       "75%      4.000000e+00\n",
       "max      5.000000e+00\n",
       "Name: content_id, dtype: float64"
      ]
     },
     "execution_count": 11,
     "metadata": {},
     "output_type": "execute_result"
    }
   ],
   "source": [
    "train_df.content_id.apply(lambda x: len(str(x))).describe()"
   ]
  },
  {
   "cell_type": "code",
   "execution_count": 13,
   "metadata": {},
   "outputs": [
    {
     "data": {
      "text/plain": [
       "count    1.012303e+08\n",
       "mean     2.976665e+00\n",
       "std      8.155250e-01\n",
       "min      1.000000e+00\n",
       "25%      3.000000e+00\n",
       "50%      3.000000e+00\n",
       "75%      4.000000e+00\n",
       "max      4.000000e+00\n",
       "Name: task_container_id, dtype: float64"
      ]
     },
     "execution_count": 13,
     "metadata": {},
     "output_type": "execute_result"
    }
   ],
   "source": [
    "# Riid Dataset 내에서 \n",
    "train_df.task_container_id.apply(lambda x: len(str(x))).describe()"
   ]
  },
  {
   "cell_type": "markdown",
   "metadata": {},
   "source": [
    "## Memory Error때문에 추출"
   ]
  },
  {
   "cell_type": "code",
   "execution_count": 12,
   "metadata": {},
   "outputs": [
    {
     "data": {
      "text/plain": [
       "6116    213605\n",
       "6173    202106\n",
       "4120    199372\n",
       "175     195861\n",
       "7876    190170\n",
       "         ...  \n",
       "4295      2715\n",
       "4225      2715\n",
       "3580      2715\n",
       "5293      2712\n",
       "4610      2710\n",
       "Name: content_id, Length: 9454, dtype: int64"
      ]
     },
     "execution_count": 12,
     "metadata": {},
     "output_type": "execute_result"
    }
   ],
   "source": [
    "train_df.content_id.value_counts()[:9454]"
   ]
  },
  {
   "cell_type": "code",
   "execution_count": 3,
   "metadata": {},
   "outputs": [],
   "source": [
    "train_df = train_df.loc[train_df.content_id.isin(train_df.content_id.value_counts()[:9454].index)]"
   ]
  },
  {
   "cell_type": "code",
   "execution_count": 4,
   "metadata": {},
   "outputs": [
    {
     "data": {
      "text/plain": [
       "15.0      771742\n",
       "14.0      738376\n",
       "4.0       652080\n",
       "7.0       649201\n",
       "5.0       647169\n",
       "           ...  \n",
       "1527.0      8829\n",
       "1526.0      8827\n",
       "1530.0      8820\n",
       "1533.0      8820\n",
       "1537.0      8812\n",
       "Name: task_container_id, Length: 1535, dtype: int64"
      ]
     },
     "execution_count": 4,
     "metadata": {},
     "output_type": "execute_result"
    }
   ],
   "source": [
    "train_df.task_container_id.value_counts()[:1537]"
   ]
  },
  {
   "cell_type": "code",
   "execution_count": 19,
   "metadata": {},
   "outputs": [],
   "source": [
    "train_df = train_df.loc[train_df.task_container_id.isin(train_df.task_container_id.value_counts()[:1537].index)]"
   ]
  },
  {
   "cell_type": "code",
   "execution_count": 6,
   "metadata": {},
   "outputs": [
    {
     "name": "stdout",
     "output_type": "stream",
     "text": [
      "(77317660, 8)\n"
     ]
    }
   ],
   "source": [
    "print(train_df.shape)"
   ]
  },
  {
   "cell_type": "code",
   "execution_count": 10,
   "metadata": {},
   "outputs": [
    {
     "name": "stdout",
     "output_type": "stream",
     "text": [
      "390537\n"
     ]
    }
   ],
   "source": [
    "print(len(set(train_df.user_id)))"
   ]
  },
  {
   "cell_type": "code",
   "execution_count": 11,
   "metadata": {},
   "outputs": [
    {
     "name": "stdout",
     "output_type": "stream",
     "text": [
      "(49814769, 8)\n"
     ]
    }
   ],
   "source": [
    "subsample_user_id = list(set(train_df.user_id))[:250606]\n",
    "train_df = train_df.loc[train_df.user_id.isin(subsample_user_id),:]\n",
    "print(train_df.shape)"
   ]
  },
  {
   "cell_type": "code",
   "execution_count": 2,
   "metadata": {},
   "outputs": [],
   "source": [
    "train_df.dropna(axis=0,inplace=True)"
   ]
  },
  {
   "cell_type": "code",
   "execution_count": 3,
   "metadata": {},
   "outputs": [],
   "source": [
    "## Memory Error\n",
    "\n",
    "train_df.content_id = train_df.content_id.astype(int)\n",
    "train_df.task_container_id = train_df.task_container_id.astype(int)\n",
    "\n",
    "# Part정보를 변수값 앞에 추가하기 전, Padding으로 길이 맞추기\n",
    "def pad_2_content(x):\n",
    "    raw_text = str(x['content_id'])\n",
    "    part = str(int(x['part']))\n",
    "    return '0'+part+'0'+'0'*(5-len(raw_text))+raw_text\n",
    "\n",
    "def pad_2_task_container(x):\n",
    "    raw_text = str(x['task_container_id'])\n",
    "    part = str(int(x['part']))\n",
    "    return '0'+part+'0'+'0'*(4-len(raw_text))+raw_text\n",
    "\n",
    "train_df.content_id = train_df.apply(lambda x: pad_2_content(x),axis=1)\n"
   ]
  },
  {
   "cell_type": "code",
   "execution_count": 5,
   "metadata": {},
   "outputs": [],
   "source": [
    "train_df.task_container_id = train_df.apply(lambda x: pad_2_task_container(x), axis=1)"
   ]
  },
  {
   "cell_type": "code",
   "execution_count": 9,
   "metadata": {},
   "outputs": [],
   "source": [
    "# import pandas as pd\n",
    "# train_df.to_pickle('/opt/ml/notebooks/kaggle_riid/dataset/checkpoint_train.pkl')\n",
    "# train_df = pd.read_pickle('/opt/ml/notebooks/kaggle_riid/dataset/checkpoint_train.pkl')\n",
    "# original_train = pd.read_csv('/opt/ml/input/data/train_dataset/train_data.csv')"
   ]
  },
  {
   "cell_type": "code",
   "execution_count": 10,
   "metadata": {},
   "outputs": [
    {
     "data": {
      "text/plain": [
       "Index(['timestamp', 'user_id', 'content_id', 'task_container_id',\n",
       "       'answered_correctly', 'bundle_id', 'part', 'tags'],\n",
       "      dtype='object')"
      ]
     },
     "execution_count": 10,
     "metadata": {},
     "output_type": "execute_result"
    }
   ],
   "source": [
    "train_df.columns"
   ]
  },
  {
   "cell_type": "code",
   "execution_count": 14,
   "metadata": {},
   "outputs": [
    {
     "data": {
      "text/html": [
       "<div>\n",
       "<style scoped>\n",
       "    .dataframe tbody tr th:only-of-type {\n",
       "        vertical-align: middle;\n",
       "    }\n",
       "\n",
       "    .dataframe tbody tr th {\n",
       "        vertical-align: top;\n",
       "    }\n",
       "\n",
       "    .dataframe thead th {\n",
       "        text-align: right;\n",
       "    }\n",
       "</style>\n",
       "<table border=\"1\" class=\"dataframe\">\n",
       "  <thead>\n",
       "    <tr style=\"text-align: right;\">\n",
       "      <th></th>\n",
       "      <th>userID</th>\n",
       "      <th>assessmentItemID</th>\n",
       "      <th>testId</th>\n",
       "      <th>answerCode</th>\n",
       "      <th>Timestamp</th>\n",
       "      <th>KnowledgeTag</th>\n",
       "    </tr>\n",
       "  </thead>\n",
       "  <tbody>\n",
       "    <tr>\n",
       "      <th>0</th>\n",
       "      <td>115.0</td>\n",
       "      <td>05005692</td>\n",
       "      <td>0500001</td>\n",
       "      <td>1.0</td>\n",
       "      <td>0.0</td>\n",
       "      <td>151</td>\n",
       "    </tr>\n",
       "    <tr>\n",
       "      <th>1</th>\n",
       "      <td>115.0</td>\n",
       "      <td>05005716</td>\n",
       "      <td>0500002</td>\n",
       "      <td>1.0</td>\n",
       "      <td>56943.0</td>\n",
       "      <td>168</td>\n",
       "    </tr>\n",
       "    <tr>\n",
       "      <th>2</th>\n",
       "      <td>115.0</td>\n",
       "      <td>01000128</td>\n",
       "      <td>0100000</td>\n",
       "      <td>1.0</td>\n",
       "      <td>118363.0</td>\n",
       "      <td>131 149 92</td>\n",
       "    </tr>\n",
       "    <tr>\n",
       "      <th>3</th>\n",
       "      <td>115.0</td>\n",
       "      <td>01007860</td>\n",
       "      <td>0100003</td>\n",
       "      <td>1.0</td>\n",
       "      <td>131167.0</td>\n",
       "      <td>131 104 81</td>\n",
       "    </tr>\n",
       "    <tr>\n",
       "      <th>4</th>\n",
       "      <td>115.0</td>\n",
       "      <td>01007922</td>\n",
       "      <td>0100004</td>\n",
       "      <td>1.0</td>\n",
       "      <td>137965.0</td>\n",
       "      <td>131 149 92</td>\n",
       "    </tr>\n",
       "  </tbody>\n",
       "</table>\n",
       "</div>"
      ],
      "text/plain": [
       "   userID assessmentItemID   testId  answerCode  Timestamp KnowledgeTag\n",
       "0   115.0         05005692  0500001         1.0        0.0          151\n",
       "1   115.0         05005716  0500002         1.0    56943.0          168\n",
       "2   115.0         01000128  0100000         1.0   118363.0   131 149 92\n",
       "3   115.0         01007860  0100003         1.0   131167.0   131 104 81\n",
       "4   115.0         01007922  0100004         1.0   137965.0   131 149 92"
      ]
     },
     "execution_count": 14,
     "metadata": {},
     "output_type": "execute_result"
    }
   ],
   "source": [
    "train_df.drop(\n",
    "    ['bundle_id'], #'type_of',\n",
    "    axis=1,\n",
    "    inplace=True)\n",
    "\n",
    "train_df = train_df.rename(\n",
    "                            columns={'timestamp':'Timestamp',\n",
    "                            'content_id':'testId',\n",
    "                            'task_container_id':'assessmentItemID',\n",
    "                            'user_id':'userID',\n",
    "                            'answered_correctly':'answerCode',\n",
    "                            'tags':'KnowledgeTag',\n",
    "                            })\n",
    "\n",
    "column_ordered = original_train.columns.tolist()\n",
    "train_df = train_df.loc[:,column_ordered]\n",
    "train_df.head()"
   ]
  },
  {
   "cell_type": "code",
   "execution_count": 15,
   "metadata": {},
   "outputs": [
    {
     "data": {
      "text/html": [
       "<div>\n",
       "<style scoped>\n",
       "    .dataframe tbody tr th:only-of-type {\n",
       "        vertical-align: middle;\n",
       "    }\n",
       "\n",
       "    .dataframe tbody tr th {\n",
       "        vertical-align: top;\n",
       "    }\n",
       "\n",
       "    .dataframe thead th {\n",
       "        text-align: right;\n",
       "    }\n",
       "</style>\n",
       "<table border=\"1\" class=\"dataframe\">\n",
       "  <thead>\n",
       "    <tr style=\"text-align: right;\">\n",
       "      <th></th>\n",
       "      <th>userID</th>\n",
       "      <th>assessmentItemID</th>\n",
       "      <th>testId</th>\n",
       "      <th>answerCode</th>\n",
       "      <th>Timestamp</th>\n",
       "      <th>KnowledgeTag</th>\n",
       "    </tr>\n",
       "  </thead>\n",
       "  <tbody>\n",
       "    <tr>\n",
       "      <th>0</th>\n",
       "      <td>0</td>\n",
       "      <td>A060001001</td>\n",
       "      <td>A060000001</td>\n",
       "      <td>1</td>\n",
       "      <td>2020-03-24 00:17:11</td>\n",
       "      <td>7224</td>\n",
       "    </tr>\n",
       "    <tr>\n",
       "      <th>1</th>\n",
       "      <td>0</td>\n",
       "      <td>A060001002</td>\n",
       "      <td>A060000001</td>\n",
       "      <td>1</td>\n",
       "      <td>2020-03-24 00:17:14</td>\n",
       "      <td>7225</td>\n",
       "    </tr>\n",
       "    <tr>\n",
       "      <th>2</th>\n",
       "      <td>0</td>\n",
       "      <td>A060001003</td>\n",
       "      <td>A060000001</td>\n",
       "      <td>1</td>\n",
       "      <td>2020-03-24 00:17:22</td>\n",
       "      <td>7225</td>\n",
       "    </tr>\n",
       "    <tr>\n",
       "      <th>3</th>\n",
       "      <td>0</td>\n",
       "      <td>A060001004</td>\n",
       "      <td>A060000001</td>\n",
       "      <td>1</td>\n",
       "      <td>2020-03-24 00:17:29</td>\n",
       "      <td>7225</td>\n",
       "    </tr>\n",
       "    <tr>\n",
       "      <th>4</th>\n",
       "      <td>0</td>\n",
       "      <td>A060001005</td>\n",
       "      <td>A060000001</td>\n",
       "      <td>1</td>\n",
       "      <td>2020-03-24 00:17:36</td>\n",
       "      <td>7225</td>\n",
       "    </tr>\n",
       "  </tbody>\n",
       "</table>\n",
       "</div>"
      ],
      "text/plain": [
       "   userID assessmentItemID      testId  answerCode            Timestamp  \\\n",
       "0       0       A060001001  A060000001           1  2020-03-24 00:17:11   \n",
       "1       0       A060001002  A060000001           1  2020-03-24 00:17:14   \n",
       "2       0       A060001003  A060000001           1  2020-03-24 00:17:22   \n",
       "3       0       A060001004  A060000001           1  2020-03-24 00:17:29   \n",
       "4       0       A060001005  A060000001           1  2020-03-24 00:17:36   \n",
       "\n",
       "   KnowledgeTag  \n",
       "0          7224  \n",
       "1          7225  \n",
       "2          7225  \n",
       "3          7225  \n",
       "4          7225  "
      ]
     },
     "execution_count": 15,
     "metadata": {},
     "output_type": "execute_result"
    }
   ],
   "source": [
    "original_train.head()"
   ]
  },
  {
   "cell_type": "code",
   "execution_count": 16,
   "metadata": {},
   "outputs": [
    {
     "name": "stdout",
     "output_type": "stream",
     "text": [
      "userID              0\n",
      "assessmentItemID    0\n",
      "testId              0\n",
      "answerCode          0\n",
      "Timestamp           0\n",
      "KnowledgeTag        0\n",
      "dtype: int64\n"
     ]
    }
   ],
   "source": [
    "print(train_df.isnull().sum())"
   ]
  },
  {
   "cell_type": "code",
   "execution_count": 17,
   "metadata": {},
   "outputs": [
    {
     "data": {
      "text/plain": [
       "(48844795, 6)"
      ]
     },
     "execution_count": 17,
     "metadata": {},
     "output_type": "execute_result"
    }
   ],
   "source": [
    "train_df.shape"
   ]
  },
  {
   "cell_type": "code",
   "execution_count": 18,
   "metadata": {},
   "outputs": [],
   "source": [
    "unique_userid = list(set(train_df.userID))\n",
    "reset_userid_sort = {val:idx for idx,val in enumerate(unique_userid)}\n",
    "train_df.userID = train_df.userID.map(reset_userid_sort)\n",
    "train_df = train_df.sort_values(by=[\"userID\", \"Timestamp\"], axis=0)"
   ]
  },
  {
   "cell_type": "code",
   "execution_count": 19,
   "metadata": {},
   "outputs": [
    {
     "data": {
      "text/plain": [
       "250606"
      ]
     },
     "execution_count": 19,
     "metadata": {},
     "output_type": "execute_result"
    }
   ],
   "source": [
    "len(unique_userid)"
   ]
  },
  {
   "cell_type": "code",
   "execution_count": 28,
   "metadata": {},
   "outputs": [],
   "source": [
    "# # SubSampling <= MemoryError때문에\n",
    "# train_df = train_df.loc[train_df.userID.isin(list(range(250606)))]"
   ]
  },
  {
   "cell_type": "code",
   "execution_count": 20,
   "metadata": {},
   "outputs": [
    {
     "data": {
      "text/html": [
       "<div>\n",
       "<style scoped>\n",
       "    .dataframe tbody tr th:only-of-type {\n",
       "        vertical-align: middle;\n",
       "    }\n",
       "\n",
       "    .dataframe tbody tr th {\n",
       "        vertical-align: top;\n",
       "    }\n",
       "\n",
       "    .dataframe thead th {\n",
       "        text-align: right;\n",
       "    }\n",
       "</style>\n",
       "<table border=\"1\" class=\"dataframe\">\n",
       "  <thead>\n",
       "    <tr style=\"text-align: right;\">\n",
       "      <th></th>\n",
       "      <th>userID</th>\n",
       "      <th>assessmentItemID</th>\n",
       "      <th>testId</th>\n",
       "      <th>answerCode</th>\n",
       "      <th>Timestamp</th>\n",
       "      <th>KnowledgeTag</th>\n",
       "    </tr>\n",
       "  </thead>\n",
       "  <tbody>\n",
       "    <tr>\n",
       "      <th>13136600</th>\n",
       "      <td>0</td>\n",
       "      <td>01007900</td>\n",
       "      <td>0100000</td>\n",
       "      <td>0.0</td>\n",
       "      <td>0.0</td>\n",
       "      <td>131 93 81</td>\n",
       "    </tr>\n",
       "    <tr>\n",
       "      <th>13136601</th>\n",
       "      <td>0</td>\n",
       "      <td>01007876</td>\n",
       "      <td>0100001</td>\n",
       "      <td>0.0</td>\n",
       "      <td>25686.0</td>\n",
       "      <td>10 94 92</td>\n",
       "    </tr>\n",
       "    <tr>\n",
       "      <th>13136602</th>\n",
       "      <td>0</td>\n",
       "      <td>01000175</td>\n",
       "      <td>0100002</td>\n",
       "      <td>1.0</td>\n",
       "      <td>55569.0</td>\n",
       "      <td>9 10 92</td>\n",
       "    </tr>\n",
       "    <tr>\n",
       "      <th>13136603</th>\n",
       "      <td>0</td>\n",
       "      <td>02001278</td>\n",
       "      <td>0200003</td>\n",
       "      <td>1.0</td>\n",
       "      <td>478379872.0</td>\n",
       "      <td>143 140 81 29</td>\n",
       "    </tr>\n",
       "    <tr>\n",
       "      <th>13136604</th>\n",
       "      <td>0</td>\n",
       "      <td>03002063</td>\n",
       "      <td>0300004</td>\n",
       "      <td>0.0</td>\n",
       "      <td>478476576.0</td>\n",
       "      <td>136 92 29</td>\n",
       "    </tr>\n",
       "  </tbody>\n",
       "</table>\n",
       "</div>"
      ],
      "text/plain": [
       "          userID assessmentItemID   testId  answerCode    Timestamp  \\\n",
       "13136600       0         01007900  0100000         0.0          0.0   \n",
       "13136601       0         01007876  0100001         0.0      25686.0   \n",
       "13136602       0         01000175  0100002         1.0      55569.0   \n",
       "13136603       0         02001278  0200003         1.0  478379872.0   \n",
       "13136604       0         03002063  0300004         0.0  478476576.0   \n",
       "\n",
       "           KnowledgeTag  \n",
       "13136600      131 93 81  \n",
       "13136601       10 94 92  \n",
       "13136602        9 10 92  \n",
       "13136603  143 140 81 29  \n",
       "13136604      136 92 29  "
      ]
     },
     "execution_count": 20,
     "metadata": {},
     "output_type": "execute_result"
    }
   ],
   "source": [
    "# print(train_df.shape)\n",
    "train_df.head()"
   ]
  },
  {
   "cell_type": "code",
   "execution_count": 31,
   "metadata": {},
   "outputs": [],
   "source": [
    "# test_df = pd.read_csv('/opt/ml/notebooks/kaggle_riid/dataset/example_test.csv')\n",
    "# test_df.drop(\n",
    "#     ['row_id','group_num','content_type_id','prior_question_elapsed_time','prior_question_had_explanation','prior_group_answers_correct','prior_group_responses'], #'type_of',\n",
    "#     axis=1,\n",
    "#     inplace=True)\n",
    "# test_df = test_df.rename(\n",
    "#                             columns={'timestamp':'Timestamp',\n",
    "#                             'content_id':'testId',\n",
    "#                             'task_container_id':'assessmentItemID',\n",
    "#                             'user_id':'userID',\n",
    "#                             'answered_correctly':'answerCode',\n",
    "#                             'tags':'KnowledgeTag',\n",
    "#                             })\n",
    "# unique_userid = list(set(test_df.userID))\n",
    "# reset_userid_sort = {idx:val for idx,val in enumerate(unique_userid)}\n",
    "# test_df.userID = test_df.userID.map(reset_userid_sort)\n",
    "# test_df = test_df.sort_values(by=[\"userID\", \"Timestamp\"], axis=0)\n",
    "# test_df.head()"
   ]
  },
  {
   "cell_type": "markdown",
   "metadata": {},
   "source": [
    "## KnowledgeTag\n",
    "1) unique한 값을 모두 LE로\n",
    "2) 클러스터링해서 분포가 비슷한 친구들끼리 새로 Tag로 묶어주기\n",
    "    - Memory Error\n",
    "3) 여러 태그를 갖는 한 row를 여러 row로 쪼개기\n",
    "    - 우리 데이터엔 같은 시점에 여러개의 문제를 푼 row들이 없음."
   ]
  },
  {
   "cell_type": "code",
   "execution_count": 21,
   "metadata": {},
   "outputs": [
    {
     "name": "stdout",
     "output_type": "stream",
     "text": [
      "184\n",
      "False\n"
     ]
    }
   ],
   "source": [
    "from collections import Counter\n",
    "all_tags = ' '.join([str(t) for t in train_df.KnowledgeTag])\n",
    "all_tags = all_tags.split()\n",
    "print(len(Counter(all_tags)))\n",
    "# print(len(top_k))\n",
    "# import matplotlib.pyplot as plt\n",
    "# plt.hist(all_tags)\n",
    "# plt.title('After join, histogram')\n",
    "print('00' in all_tags)\n",
    "del all_tags"
   ]
  },
  {
   "cell_type": "code",
   "execution_count": 22,
   "metadata": {},
   "outputs": [
    {
     "data": {
      "text/plain": [
       "[]"
      ]
     },
     "execution_count": 22,
     "metadata": {},
     "output_type": "execute_result"
    }
   ],
   "source": [
    "after_join000 = train_df.KnowledgeTag.apply(lambda x: '00'.join(str(x).split()))\n",
    "[a for a in after_join000 if not a.isdigit()]"
   ]
  },
  {
   "cell_type": "code",
   "execution_count": 23,
   "metadata": {},
   "outputs": [
    {
     "name": "stdout",
     "output_type": "stream",
     "text": [
      "0\n"
     ]
    }
   ],
   "source": [
    "print(after_join000.apply(lambda x: int(x)).isnull().sum())\n",
    "del after_join000"
   ]
  },
  {
   "cell_type": "code",
   "execution_count": null,
   "metadata": {},
   "outputs": [],
   "source": [
    "train_df = train_df.loc[train_df.KnowledgeTag!='',:]\n",
    "train_df.shape"
   ]
  },
  {
   "cell_type": "code",
   "execution_count": 1,
   "metadata": {},
   "outputs": [],
   "source": [
    "# import pandas as pd\n",
    "# train_df.to_pickle('/opt/ml/notebooks/kaggle_riid/dataset/checkpoint_train.pkl')\n",
    "# train_df = pd.read_pickle('/opt/ml/notebooks/kaggle_riid/dataset/checkpoint_train.pkl')"
   ]
  },
  {
   "cell_type": "code",
   "execution_count": null,
   "metadata": {},
   "outputs": [],
   "source": [
    "# from sklearn.model_selection import train_test_split\n",
    "# _, test_df = train_test_split(train_df, test_size=0.005, stratify=train_df.KnowledgeTag,random_state=42)"
   ]
  },
  {
   "cell_type": "code",
   "execution_count": 2,
   "metadata": {},
   "outputs": [
    {
     "name": "stdout",
     "output_type": "stream",
     "text": [
      "(48844795, 6)\n",
      "(139640, 6)\n"
     ]
    }
   ],
   "source": [
    "origin_test = pd.read_csv('/opt/ml/input/data/train_dataset/test_data.csv')\n",
    "test_userid = set(origin_test.userID)\n",
    "test_df = train_df.loc[train_df.userID.isin(test_userid)==True]\n",
    "# _ = train_df.loc[train_df.userID.isin(test_userid)==False]\n",
    "print(train_df.shape)\n",
    "print(test_df.shape)\n",
    "del origin_test"
   ]
  },
  {
   "cell_type": "code",
   "execution_count": 26,
   "metadata": {},
   "outputs": [
    {
     "name": "stdout",
     "output_type": "stream",
     "text": [
      "67354\n",
      "18322\n",
      "0\n"
     ]
    }
   ],
   "source": [
    "train_test_id = set(train_df.testId)\n",
    "test_test_id = set(test_df.testId)\n",
    "print(len(train_test_id))\n",
    "print(len(test_test_id))\n",
    "print(len(test_test_id - train_test_id))"
   ]
  },
  {
   "cell_type": "code",
   "execution_count": 5,
   "metadata": {},
   "outputs": [
    {
     "name": "stdout",
     "output_type": "stream",
     "text": [
      "9323\n",
      "9283\n",
      "0\n"
     ]
    }
   ],
   "source": [
    "train_assessmentItemID = set(train_df.assessmentItemID)\n",
    "test_assessmentItemID = set(test_df.assessmentItemID)\n",
    "print(len(train_assessmentItemID))\n",
    "print(len(test_assessmentItemID))\n",
    "print(len(test_assessmentItemID - train_assessmentItemID))"
   ]
  },
  {
   "cell_type": "code",
   "execution_count": null,
   "metadata": {},
   "outputs": [],
   "source": [
    "print('trian 전처리중 ...')\n",
    "train_df['KnowledgeTag'] = train_df.KnowledgeTag.apply(lambda x: int('00'.join(str(x).split())))\n",
    "train_df['assessmentItemID'] = train_df.assessmentItemID.apply(lambda x: str(int(x)))\n",
    "train_df['testId'] = train_df.testId.apply(lambda x: str(int(x)))\n",
    "train_df['Timestamp'] = train_df.Timestamp.apply(lambda x: str(int(x)))\n",
    "\n",
    "print('test 전처리중 ...')\n",
    "test_df['KnowledgeTag'] = test_df.KnowledgeTag.apply(lambda x: int('00'.join(str(x).split())))\n",
    "test_df['assessmentItemID'] = test_df.assessmentItemID.apply(lambda x: str(int(x)))\n",
    "test_df['testId'] = test_df.testId.apply(lambda x: str(int(x)))\n",
    "test_df['Timestamp'] = test_df.Timestamp.apply(lambda x: str(int(x)))"
   ]
  },
  {
   "cell_type": "code",
   "execution_count": 4,
   "metadata": {},
   "outputs": [],
   "source": [
    "before_encoder = train_df.KnowledgeTag.values\n",
    "from sklearn.preprocessing import LabelEncoder\n",
    "encoder = LabelEncoder()\n",
    "encoder.fit(before_encoder)\n",
    "tags_encoded = encoder.transform(before_encoder)\n",
    "train_df.KnowledgeTag = tags_encoded"
   ]
  },
  {
   "cell_type": "code",
   "execution_count": 5,
   "metadata": {},
   "outputs": [
    {
     "name": "stderr",
     "output_type": "stream",
     "text": [
      "/opt/conda/lib/python3.7/site-packages/pandas/core/generic.py:5494: SettingWithCopyWarning: \n",
      "A value is trying to be set on a copy of a slice from a DataFrame.\n",
      "Try using .loc[row_indexer,col_indexer] = value instead\n",
      "\n",
      "See the caveats in the documentation: https://pandas.pydata.org/pandas-docs/stable/user_guide/indexing.html#returning-a-view-versus-a-copy\n",
      "  self[name] = value\n"
     ]
    }
   ],
   "source": [
    "import numpy as np\n",
    "# Label Encoder 주의\n",
    "# X_test데이터에만 존재하는 새로 출현한 데이터를 신규 클래스로 추가한다 (중요!!!)\n",
    "before_encoder_test = test_df.KnowledgeTag.values\n",
    "for label in np.unique(before_encoder_test):\n",
    "    if label not in encoder.classes_: # unseen label 데이터인 경우( )\n",
    "        encoder.classes_ = np.append(encoder.classes_, label) # 미처리 시 ValueError발생\n",
    "test_df.KnowledgeTag = encoder.transform(before_encoder_test)\n"
   ]
  },
  {
   "cell_type": "code",
   "execution_count": 6,
   "metadata": {},
   "outputs": [
    {
     "name": "stdout",
     "output_type": "stream",
     "text": [
      "userID              0\n",
      "assessmentItemID    0\n",
      "testId              0\n",
      "answerCode          0\n",
      "Timestamp           0\n",
      "KnowledgeTag        0\n",
      "dtype: int64\n",
      "userID              0\n",
      "assessmentItemID    0\n",
      "testId              0\n",
      "answerCode          0\n",
      "Timestamp           0\n",
      "KnowledgeTag        0\n",
      "dtype: int64\n"
     ]
    }
   ],
   "source": [
    "print(train_df.isnull().sum())\n",
    "print(test_df.isnull().sum())"
   ]
  },
  {
   "cell_type": "code",
   "execution_count": 12,
   "metadata": {},
   "outputs": [],
   "source": [
    "# top_k = 900\n",
    "# train_vc = train_df.KnowledgeTag.value_counts()\n",
    "# test_vc = test_df.KnowledgeTag.value_counts()\n",
    "\n",
    "# len(set(test_vc[:top_k].index)-set(train_vc[:top_k].index))"
   ]
  },
  {
   "cell_type": "code",
   "execution_count": 7,
   "metadata": {},
   "outputs": [
    {
     "name": "stdout",
     "output_type": "stream",
     "text": [
      "1160\n",
      "1159\n",
      "0\n"
     ]
    }
   ],
   "source": [
    "train_test_id = set(train_df.KnowledgeTag)\n",
    "test_test_id = set(test_df.KnowledgeTag)\n",
    "print(len(train_test_id))\n",
    "print(len(test_test_id))\n",
    "print(len(test_test_id - train_test_id))"
   ]
  },
  {
   "cell_type": "code",
   "execution_count": 8,
   "metadata": {},
   "outputs": [],
   "source": [
    "# import pandas as pd\n",
    "# train_df.to_csv('/opt/ml/input/data/train_dataset/kaggle_riid_train.csv',index=False)\n",
    "# test_df.to_csv('/opt/ml/input/data/train_dataset/kaggle_riid_test.csv',index=False)\n",
    "\n",
    "# train_df = pd.read_csv('/opt/ml/input/data/train_dataset/kaggle_riid_train.csv')\n",
    "# test_df = pd.read_csv('/opt/ml/input/data/train_dataset/kaggle_riid_test.csv')\n"
   ]
  },
  {
   "cell_type": "code",
   "execution_count": 9,
   "metadata": {},
   "outputs": [
    {
     "name": "stdout",
     "output_type": "stream",
     "text": [
      "trian 전처리중 ...\n",
      "test 전처리중 ...\n"
     ]
    }
   ],
   "source": [
    "print('trian 전처리중 ...')\n",
    "train_df.assessmentItemID = train_df.assessmentItemID.apply(lambda x: 'A'+str(x))\n",
    "train_df.testId = train_df.testId.apply(lambda x: 'A'+str(x))\n",
    "\n",
    "print('test 전처리중 ...')\n",
    "test_df.assessmentItemID = test_df.assessmentItemID.apply(lambda x: 'A'+str(x))\n",
    "test_df.testId = test_df.testId.apply(lambda x: 'A'+str(x))\n"
   ]
  },
  {
   "cell_type": "code",
   "execution_count": 10,
   "metadata": {},
   "outputs": [],
   "source": [
    "train_df.to_csv('/opt/ml/input/data/train_dataset/kaggle_riid_train.csv',index=False)\n",
    "test_df.to_csv('/opt/ml/input/data/train_dataset/kaggle_riid_test.csv',index=False)\n"
   ]
  },
  {
   "cell_type": "code",
   "execution_count": 11,
   "metadata": {},
   "outputs": [
    {
     "data": {
      "text/plain": [
       "userID                int64\n",
       "assessmentItemID     object\n",
       "testId               object\n",
       "answerCode          float64\n",
       "Timestamp             int64\n",
       "KnowledgeTag          int64\n",
       "dtype: object"
      ]
     },
     "execution_count": 11,
     "metadata": {},
     "output_type": "execute_result"
    }
   ],
   "source": [
    "train_df = pd.read_csv('/opt/ml/input/data/train_dataset/kaggle_riid_train.csv')\n",
    "train_df.dtypes"
   ]
  }
 ],
 "metadata": {
  "interpreter": {
   "hash": "98b0a9b7b4eaaa670588a142fd0a9b87eaafe866f1db4228be72b4211d12040f"
  },
  "kernelspec": {
   "display_name": "Python 3.7.7 64-bit ('base': conda)",
   "name": "python3"
  },
  "language_info": {
   "codemirror_mode": {
    "name": "ipython",
    "version": 3
   },
   "file_extension": ".py",
   "mimetype": "text/x-python",
   "name": "python",
   "nbconvert_exporter": "python",
   "pygments_lexer": "ipython3",
   "version": "3.7.7"
  }
 },
 "nbformat": 4,
 "nbformat_minor": 5
}