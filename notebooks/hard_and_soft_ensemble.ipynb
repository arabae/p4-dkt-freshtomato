{
 "cells": [
  {
   "cell_type": "code",
<<<<<<< HEAD
   "execution_count": 7,
=======
   "execution_count": 1,
>>>>>>> 7d94bb3838e65d2dcb797d871a4ff055ae83a5d4
   "metadata": {},
   "outputs": [],
   "source": [
    "import pandas as pd\n",
    "import numpy as np\n",
    "from collections import defaultdict\n",
    "import os\n",
    "from pprint import pprint\n",
    "\n",
    "# csv 파일의 저장될 상위 경로\n",
<<<<<<< HEAD
    "upper_dir = '/opt/p4-dkt-freshtomato/output_ensemble/'\n",
    "os.makedirs(upper_dir, exist_ok=True)\n",
    "\n",
    "# 원하는 csv 파일의 이름\n",
    "filename = 'ensembled_16개_hard_and_soft_ensemble' + '.csv'\n",
    "\n",
    "filename = f'{upper_dir}/{filename}'\n",
    "\n",
    "data1 = pd.read_csv('/opt/p4-dkt-freshtomato/CSV_For_Ensemble/output_CNN.csv')\n",
    "data2 = pd.read_csv('/opt/p4-dkt-freshtomato/CSV_For_Ensemble/output_GRUATTN.csv')\n",
    "data3 = pd.read_csv('/opt/p4-dkt-freshtomato/CSV_For_Ensemble/output_LSTM.csv')\n",
    "data4 = pd.read_csv('/opt/p4-dkt-freshtomato/CSV_For_Ensemble/output_ML.csv')\n",
    "\n",
    "# data_list 에 앙상블을 원하는 dataframe들을 넣어주면 됩니다.\n",
    "# data_list = [data1, data2, data3,data4]\n",
    "data_list = [pd.read_csv(f'/opt/p4-dkt-freshtomato/CSV_For_Ensemble/output{num}.csv') for num in range(16)]\n",
=======
    "upper_dir = '../output_ensemble/'\n",
    "os.makedirs(upper_dir, exist_ok=True)\n",
    "\n",
    "# 원하는 csv 파일의 이름\n",
    "filename = 'ensembled_3개' + '.csv'\n",
    "\n",
    "filename = f'{upper_dir}/{filename}'\n",
    "\n",
    "data1 = pd.read_csv('/opt/p4-dkt-freshtomato/output/8072_best_file.csv')\n",
    "data2 = pd.read_csv('/opt/p4-dkt-freshtomato/output_pycaret/0613_0854/submission/0613_0854_피쳐27개사용_FEATS-jinhyun-ara-mjh-minyong_many_feature_Stratified8fold.csv')\n",
    "data3 = pd.read_csv('/opt/p4-dkt-freshtomato/output_pycaret/0610_0756/submission/피쳐36개사용_FEATS-jinhyun-ara-mjh-minyong_train_only-problem_catfeat3.csv')\n",
    "\n",
    "# data_list 에 앙상블을 원하는 dataframe들을 넣어주면 됩니다.\n",
    "data_list = [data1, data2, data3]\n",
>>>>>>> 7d94bb3838e65d2dcb797d871a4ff055ae83a5d4
    "# predictions_arr"
   ]
  },
  {
   "cell_type": "code",
<<<<<<< HEAD
   "execution_count": 8,
=======
   "execution_count": 2,
>>>>>>> 7d94bb3838e65d2dcb797d871a4ff055ae83a5d4
   "metadata": {},
   "outputs": [],
   "source": [
    "n_bins = 10\n",
    "def hard_and_soft_ensemble_by_bins(filename, data_list, n_bins):\n",
    "    predictions_arr = np.array([data.prediction.values for data in data_list]).T\n",
    "    from collections import Counter\n",
    "    n_bins = n_bins\n",
    "    bins = [b for b in np.arange(0,1,1/n_bins)]\n",
    "    belong_where_bin = [np.digitize(predictions,bins=bins) for predictions in predictions_arr]\n",
    "    counter_list = [Counter(b) for b in belong_where_bin]\n",
    "    # pprint(belong_where_bin[:5])    # 구간 name\n",
    "    # pprint(counter_list[:5])\n",
    "\n",
    "    result_list = []\n",
    "    for belong_bin, counter, pred_vals_in_one_row in zip(belong_where_bin, counter_list, predictions_arr):\n",
    "        freq_max = max(counter.values())\n",
    "        # print(freq_max)\n",
    "        names_bin_have_maxfreq_per_row = np.array([idx for idx,count in counter.items() if count == freq_max])\n",
    "        # print(names_bin_have_maxfreq_per_row)\n",
    "        where_max_idxes = [idx for idx, n_bin in enumerate(belong_bin) if n_bin in names_bin_have_maxfreq_per_row]\n",
    "        # print(where_max_idxes)\n",
    "        result_list.append(np.mean(pred_vals_in_one_row[where_max_idxes]))\n",
    "\n",
    "    final_csv=pd.DataFrame([[idx, pred_val] for idx, pred_val in enumerate(result_list)], columns=['id','prediction'])\n",
    "    final_csv.to_csv(filename, index=False)\n",
    "    return final_csv"
   ]
  },
  {
   "cell_type": "code",
<<<<<<< HEAD
   "execution_count": 9,
=======
   "execution_count": 3,
>>>>>>> 7d94bb3838e65d2dcb797d871a4ff055ae83a5d4
   "metadata": {},
   "outputs": [
    {
     "data": {
      "text/html": [
       "<div>\n",
       "<style scoped>\n",
       "    .dataframe tbody tr th:only-of-type {\n",
       "        vertical-align: middle;\n",
       "    }\n",
       "\n",
       "    .dataframe tbody tr th {\n",
       "        vertical-align: top;\n",
       "    }\n",
       "\n",
       "    .dataframe thead th {\n",
       "        text-align: right;\n",
       "    }\n",
       "</style>\n",
       "<table border=\"1\" class=\"dataframe\">\n",
       "  <thead>\n",
       "    <tr style=\"text-align: right;\">\n",
       "      <th></th>\n",
       "      <th>id</th>\n",
       "      <th>prediction</th>\n",
       "    </tr>\n",
       "  </thead>\n",
       "  <tbody>\n",
       "    <tr>\n",
       "      <th>0</th>\n",
       "      <td>0</td>\n",
<<<<<<< HEAD
       "      <td>0.734132</td>\n",
=======
       "      <td>0.704450</td>\n",
>>>>>>> 7d94bb3838e65d2dcb797d871a4ff055ae83a5d4
       "    </tr>\n",
       "    <tr>\n",
       "      <th>1</th>\n",
       "      <td>1</td>\n",
<<<<<<< HEAD
       "      <td>0.831526</td>\n",
=======
       "      <td>0.804600</td>\n",
>>>>>>> 7d94bb3838e65d2dcb797d871a4ff055ae83a5d4
       "    </tr>\n",
       "    <tr>\n",
       "      <th>2</th>\n",
       "      <td>2</td>\n",
<<<<<<< HEAD
       "      <td>0.204848</td>\n",
=======
       "      <td>0.247533</td>\n",
>>>>>>> 7d94bb3838e65d2dcb797d871a4ff055ae83a5d4
       "    </tr>\n",
       "    <tr>\n",
       "      <th>3</th>\n",
       "      <td>3</td>\n",
<<<<<<< HEAD
       "      <td>0.733402</td>\n",
=======
       "      <td>0.651250</td>\n",
>>>>>>> 7d94bb3838e65d2dcb797d871a4ff055ae83a5d4
       "    </tr>\n",
       "    <tr>\n",
       "      <th>4</th>\n",
       "      <td>4</td>\n",
<<<<<<< HEAD
       "      <td>0.151269</td>\n",
=======
       "      <td>0.255933</td>\n",
>>>>>>> 7d94bb3838e65d2dcb797d871a4ff055ae83a5d4
       "    </tr>\n",
       "    <tr>\n",
       "      <th>...</th>\n",
       "      <td>...</td>\n",
       "      <td>...</td>\n",
       "    </tr>\n",
       "    <tr>\n",
       "      <th>739</th>\n",
       "      <td>739</td>\n",
<<<<<<< HEAD
       "      <td>0.042471</td>\n",
=======
       "      <td>0.068350</td>\n",
>>>>>>> 7d94bb3838e65d2dcb797d871a4ff055ae83a5d4
       "    </tr>\n",
       "    <tr>\n",
       "      <th>740</th>\n",
       "      <td>740</td>\n",
<<<<<<< HEAD
       "      <td>0.826355</td>\n",
=======
       "      <td>0.766600</td>\n",
>>>>>>> 7d94bb3838e65d2dcb797d871a4ff055ae83a5d4
       "    </tr>\n",
       "    <tr>\n",
       "      <th>741</th>\n",
       "      <td>741</td>\n",
<<<<<<< HEAD
       "      <td>0.741395</td>\n",
=======
       "      <td>0.868867</td>\n",
>>>>>>> 7d94bb3838e65d2dcb797d871a4ff055ae83a5d4
       "    </tr>\n",
       "    <tr>\n",
       "      <th>742</th>\n",
       "      <td>742</td>\n",
<<<<<<< HEAD
       "      <td>0.843829</td>\n",
=======
       "      <td>0.871400</td>\n",
>>>>>>> 7d94bb3838e65d2dcb797d871a4ff055ae83a5d4
       "    </tr>\n",
       "    <tr>\n",
       "      <th>743</th>\n",
       "      <td>743</td>\n",
<<<<<<< HEAD
       "      <td>0.724469</td>\n",
=======
       "      <td>0.659767</td>\n",
>>>>>>> 7d94bb3838e65d2dcb797d871a4ff055ae83a5d4
       "    </tr>\n",
       "  </tbody>\n",
       "</table>\n",
       "<p>744 rows × 2 columns</p>\n",
       "</div>"
      ],
      "text/plain": [
       "      id  prediction\n",
<<<<<<< HEAD
       "0      0    0.734132\n",
       "1      1    0.831526\n",
       "2      2    0.204848\n",
       "3      3    0.733402\n",
       "4      4    0.151269\n",
       "..   ...         ...\n",
       "739  739    0.042471\n",
       "740  740    0.826355\n",
       "741  741    0.741395\n",
       "742  742    0.843829\n",
       "743  743    0.724469\n",
=======
       "0      0    0.704450\n",
       "1      1    0.804600\n",
       "2      2    0.247533\n",
       "3      3    0.651250\n",
       "4      4    0.255933\n",
       "..   ...         ...\n",
       "739  739    0.068350\n",
       "740  740    0.766600\n",
       "741  741    0.868867\n",
       "742  742    0.871400\n",
       "743  743    0.659767\n",
>>>>>>> 7d94bb3838e65d2dcb797d871a4ff055ae83a5d4
       "\n",
       "[744 rows x 2 columns]"
      ]
     },
<<<<<<< HEAD
     "execution_count": 9,
=======
     "execution_count": 3,
>>>>>>> 7d94bb3838e65d2dcb797d871a4ff055ae83a5d4
     "metadata": {},
     "output_type": "execute_result"
    }
   ],
   "source": [
    "hard_and_soft_ensemble_by_bins(filename=filename, data_list=data_list, n_bins=10)"
   ]
  },
  {
   "cell_type": "code",
   "execution_count": 77,
   "metadata": {},
   "outputs": [],
   "source": [
    "# # threshold 하나 기준으로 hard voting 후, soft ensemble\n",
    "\n",
    "# result_list = []\n",
    "# for values_list in predictions_arr.T:\n",
    "#     ths = 0.7\n",
    "#     close_to_0 = []\n",
    "#     close_to_1 = []\n",
    "\n",
    "#     for value in values_list:\n",
    "#         if value >= ths:\n",
    "#             close_to_1.append(value)\n",
    "#         else:\n",
    "#             close_to_0.append(value)\n",
    "#     if len(close_to_1)>=len(close_to_0):   # 1에 가까운 value들이 더 많은 경우\n",
    "#         result = np.mean(close_to_1)\n",
    "#     else:\n",
    "#         result = np.mean(close_to_0)\n",
    "#     result_list.append(result)\n",
    "# final_csv = pd.DataFrame([[idx, pred_val] for idx, pred_val in enumerate(result_list)], columns=['id','prediction'])\n",
    "# final_csv.to_csv(filename, index=False)"
   ]
  },
  {
   "cell_type": "code",
   "execution_count": 41,
   "metadata": {},
   "outputs": [
    {
     "data": {
      "text/html": [
       "<div>\n",
       "<style scoped>\n",
       "    .dataframe tbody tr th:only-of-type {\n",
       "        vertical-align: middle;\n",
       "    }\n",
       "\n",
       "    .dataframe tbody tr th {\n",
       "        vertical-align: top;\n",
       "    }\n",
       "\n",
       "    .dataframe thead th {\n",
       "        text-align: right;\n",
       "    }\n",
       "</style>\n",
       "<table border=\"1\" class=\"dataframe\">\n",
       "  <thead>\n",
       "    <tr style=\"text-align: right;\">\n",
       "      <th></th>\n",
       "      <th>id</th>\n",
       "      <th>prediction</th>\n",
       "    </tr>\n",
       "  </thead>\n",
       "  <tbody>\n",
       "    <tr>\n",
       "      <th>0</th>\n",
       "      <td>0</td>\n",
       "      <td>0.694100</td>\n",
       "    </tr>\n",
       "    <tr>\n",
       "      <th>1</th>\n",
       "      <td>1</td>\n",
       "      <td>0.797033</td>\n",
       "    </tr>\n",
       "    <tr>\n",
       "      <th>2</th>\n",
       "      <td>2</td>\n",
       "      <td>0.247533</td>\n",
       "    </tr>\n",
       "    <tr>\n",
       "      <th>3</th>\n",
       "      <td>3</td>\n",
       "      <td>0.688367</td>\n",
       "    </tr>\n",
       "    <tr>\n",
       "      <th>4</th>\n",
       "      <td>4</td>\n",
       "      <td>0.255933</td>\n",
       "    </tr>\n",
       "    <tr>\n",
       "      <th>...</th>\n",
       "      <td>...</td>\n",
       "      <td>...</td>\n",
       "    </tr>\n",
       "    <tr>\n",
       "      <th>739</th>\n",
       "      <td>739</td>\n",
       "      <td>0.085500</td>\n",
       "    </tr>\n",
       "    <tr>\n",
       "      <th>740</th>\n",
       "      <td>740</td>\n",
       "      <td>0.783667</td>\n",
       "    </tr>\n",
       "    <tr>\n",
       "      <th>741</th>\n",
       "      <td>741</td>\n",
       "      <td>0.868867</td>\n",
       "    </tr>\n",
       "    <tr>\n",
       "      <th>742</th>\n",
       "      <td>742</td>\n",
       "      <td>0.871400</td>\n",
       "    </tr>\n",
       "    <tr>\n",
       "      <th>743</th>\n",
       "      <td>743</td>\n",
       "      <td>0.659767</td>\n",
       "    </tr>\n",
       "  </tbody>\n",
       "</table>\n",
       "<p>744 rows × 2 columns</p>\n",
       "</div>"
      ],
      "text/plain": [
       "      id  prediction\n",
       "0      0    0.694100\n",
       "1      1    0.797033\n",
       "2      2    0.247533\n",
       "3      3    0.688367\n",
       "4      4    0.255933\n",
       "..   ...         ...\n",
       "739  739    0.085500\n",
       "740  740    0.783667\n",
       "741  741    0.868867\n",
       "742  742    0.871400\n",
       "743  743    0.659767\n",
       "\n",
       "[744 rows x 2 columns]"
      ]
     },
     "execution_count": 41,
     "metadata": {},
     "output_type": "execute_result"
    }
   ],
   "source": [
    "final_csv"
   ]
  },
  {
   "cell_type": "code",
   "execution_count": null,
   "metadata": {},
   "outputs": [],
   "source": []
  }
 ],
 "metadata": {
  "interpreter": {
   "hash": "98b0a9b7b4eaaa670588a142fd0a9b87eaafe866f1db4228be72b4211d12040f"
  },
  "kernelspec": {
   "display_name": "Python 3.7.7 64-bit ('base': conda)",
   "name": "python3"
  },
  "language_info": {
   "codemirror_mode": {
    "name": "ipython",
    "version": 3
   },
   "file_extension": ".py",
   "mimetype": "text/x-python",
   "name": "python",
   "nbconvert_exporter": "python",
   "pygments_lexer": "ipython3",
   "version": "3.7.7"
  },
  "orig_nbformat": 4
 },
 "nbformat": 4,
 "nbformat_minor": 2
}